{
 "metadata": {
  "name": ""
 },
 "nbformat": 3,
 "nbformat_minor": 0,
 "worksheets": [
  {
   "cells": [
    {
     "cell_type": "code",
     "collapsed": false,
     "input": [
      "#load Skyhook_processing.py"
     ],
     "language": "python",
     "metadata": {},
     "outputs": [],
     "prompt_number": 1
    },
    {
     "cell_type": "heading",
     "level": 1,
     "metadata": {},
     "source": [
      "Code to create bounding box using Skyhook Data as Input"
     ]
    },
    {
     "cell_type": "code",
     "collapsed": false,
     "input": [
      "import csv\n",
      "import os\n",
      "from pandas import DataFrame\n",
      "# from geopandas import GeoDataFrame # Only works in sudo env. for now\n",
      "from shapely.geometry import box\n",
      "import pyproj\n",
      "import numpy as np\n",
      "#Import sample file from one of the days to initially compute data\n",
      "in_file =\"Skyhook.csv\"\n",
      " \n",
      "out_file =r\"Skyhook.shp\"\n",
      "print(in_file)\n",
      "print(out_file)\n",
      "\n",
      "with open(in_file, 'rb') as csvfile:\n",
      "    r = csv.reader(csvfile, delimiter=',')\n",
      "    # create 9 lists containing the columns of the dataset\n",
      "    date, tileID, hour, count, average_lat, average_long, min_lat, min_long, max_lat, max_long = [\n",
      "    ], [], [], [], [], [], [], [], [], []\n",
      "#Note there was a correction to the original code to read the correct columns 0-8 vs 0-9\n",
      "    for row in r:\n",
      "        date.append('20130901')\n",
      "        tileID.append(row[0])\n",
      "        hour.append(row[1])\n",
      "        count.append(row[2])\n",
      "        average_lat.append(row[3])\n",
      "        average_long.append(row[4])\n",
      "        min_lat.append(row[5])\n",
      "        min_long.append(row[6])\n",
      "        max_lat.append(row[7])\n",
      "        max_long.append(row[8])\n",
      "        #print row\n",
      "len(hour)\n",
      "#A sanity check\n",
      "print (\"{0} {1}\".format (len(hour),\"number of rows in this file\\n\"))\n",
      "#We Can close the file now, since we have read the data we needed\n",
      "csvfile.close()"
     ],
     "language": "python",
     "metadata": {},
     "outputs": [
      {
       "output_type": "stream",
       "stream": "stdout",
       "text": [
        "Skyhook.csv\n",
        "Skyhook.shp\n",
        "109 number of rows in this file\n",
        "\n"
       ]
      }
     ],
     "prompt_number": 2
    },
    {
     "cell_type": "code",
     "collapsed": false,
     "input": [
      "# Take a Look at the Data\n",
      "import pylab as pl\n",
      "import pylab as pp\n",
      "import numpy as np\n",
      "from mpl_toolkits.mplot3d import Axes3D\n",
      "\n",
      "# convert the bounding box into geometric coordinates\n",
      "# Some additional methods to convert the data into known numpy types\n",
      "# First convert a data source into an numpy array\n",
      "min_long_array = np.asarray(min_long)\n",
      "# Next change each element in the array into type float. But why this doesn't work in place\n",
      "# is a bit odd.\n",
      "min_long_array = min_long_array.astype(np.float)\n",
      "min_lat_array = np.asarray(min_lat)\n",
      "min_lat_array = min_lat_array.astype(np.float)\n",
      "\n",
      "tile_array = np.asarray(tileID)\n",
      "\n",
      "cnt = np.asarray(count)\n",
      "cnt = cnt.astype(np.float)\n",
      "\n",
      "cnt1 = np.copy(cnt)\n",
      "print tile_array[8], cnt[8]\n",
      "#tile_array = tile_array.astype(np.char)\n",
      "\n",
      "x = np.copy(min_lat)\n",
      "y = np.copy(min_long)\n",
      "\n",
      "pl.cla()\n",
      "#pl.ion() # recall without interactive mode the program hangs\n",
      "\n",
      "pl.scatter(x, y, s=cnt, c='r', marker='^')\n",
      "\n",
      "pl.draw()\n",
      "\n",
      "pl.show()\n"
     ],
     "language": "python",
     "metadata": {},
     "outputs": [
      {
       "output_type": "stream",
       "stream": "stdout",
       "text": [
        "B739B000D 6.0\n"
       ]
      }
     ],
     "prompt_number": 6
    },
    {
     "cell_type": "heading",
     "level": 1,
     "metadata": {},
     "source": [
      "I need a Space break Here"
     ]
    },
    {
     "cell_type": "code",
     "collapsed": false,
     "input": [
      "#Next Set up the projection system and transform the coordinates.  Not obvious on why we need this change +\n",
      "#later the shapefile will compain about non-integer coordinate system.\n",
      "# set up coordinate projection suitable for NYC\n",
      "nyp = pyproj.Proj('+datum=NAD83 +lat_0=40.1666666667 +lat_1=40.6666666667 '\n",
      "           '+lat_2=41.0333333333 +lon_0=-74 +no_defs +proj=lcc +units=us-ft '\n",
      "           '+x_0=300000 +y_0', preserve_units=True)\n",
      "wgs84 = pyproj.Proj(init='epsg:4326')\n",
      "\n",
      "x_l, y_b, x_r, y_t= [], [], [], []\n",
      "parr = []\n",
      "# convert the bounding box into geometric coordinates\n",
      "min_long_array = np.asarray(min_long)\n",
      "min_long_array = min_long_array.astype(np.float)\n",
      "min_lat_array = np.asarray(min_lat)\n",
      "min_lat_array = min_lat_array.astype(np.float)\n",
      "########\n",
      "max_long_array = np.asarray(max_long)\n",
      "max_long_array = max_long_array.astype(np.float)\n",
      "max_lat_array = np.asarray(max_lat)\n",
      "max_lat_array = max_lat_array.astype(np.float)\n",
      "    # create (N,2) arrays where N is the number of points and 2 are the coordinates\n",
      "    # pyproj expects the coordinates as (long, lat)\n",
      "x_l, y_b = pyproj.transform(wgs84,nyp, min_long_array, min_lat_array)\n",
      "x_r, y_t = pyproj.transform(wgs84,nyp, max_long_array, max_lat_array)\n",
      "\n",
      "    # form a point array representing the bounding box\n",
      "tl = [x_l, y_t]\n",
      "tr = [x_r, y_t]\n",
      "br = [x_r, y_b]\n",
      "bl = [x_l, y_b]\n",
      "parr = [tl, tr, br, bl, tl]"
     ],
     "language": "python",
     "metadata": {},
     "outputs": [],
     "prompt_number": 41
    },
    {
     "cell_type": "code",
     "collapsed": false,
     "input": [
      "# From the Help file we are missing this statement which adds 'name' to the end of each part\n",
      "# First set up the shapefile\n",
      "import shapefile\n",
      "w = shapefile.Writer(shapefile.POLYGON)\n",
      "parr = [ (1,1), (1,0), (0,0), (0,1) ]\n",
      "w.poly(parts=[parr])\n",
      "w.field('name','C',50)\n",
      "w.record('My Bounding Box')\n",
      "# Save shapefile\n",
      "w.save(out_file)"
     ],
     "language": "python",
     "metadata": {},
     "outputs": []
    },
    {
     "cell_type": "code",
     "collapsed": false,
     "input": [
      "# Let's try plotting what we have first\n",
      "import numpy as np\n",
      "import shapefile\n",
      "import pylab as pl\n",
      "import pylab as pp\n",
      "\n",
      "np.__version__\n",
      "\n",
      "x = [ 1, 2, 8, 10]\n",
      "y = [ 5, 7, 12, 14]\n",
      "x1 = np.add(x, - 1)\n",
      "y1 = np.add(y, +4)\n",
      "pl.plot(x,y, 'g+')\n",
      "pl.plot(x1,y1, 'b*')\n",
      "pl.xlim(-3,13)\n",
      "\n",
      "pp.plot(x_l,y_t,'b+')\n",
      "pp.show()"
     ],
     "language": "python",
     "metadata": {},
     "outputs": [],
     "prompt_number": 6
    },
    {
     "cell_type": "code",
     "collapsed": false,
     "input": [
      "from mpl_toolkits.basemap import Basemap\n",
      "import matplotlib.pyplot as plt\n",
      "import numpy as np\n",
      " \n",
      "# set up orthographic map projection with\n",
      "# perspective of satellite looking down at 50N, 100W.\n",
      "# use low resolution coastlines.\n",
      "# don't plot features that are smaller than 1000 square km.\n",
      "map = Basemap(projection='ortho', lat_0 =41, lon_0 = -73, \\\n",
      "             resolution = 'h', area_thresh = 1000.)\n",
      "# draw coastlines, country boundaries, fill continents.\n",
      "map.drawcoastlines()\n",
      "map.drawcountries()\n",
      "map.fillcontinents(color = 'coral')\n",
      "# draw the edge of the map projection region (the projection limb)\n",
      "map.drawmapboundary()\n",
      "# draw lat/lon grid lines every 30 degrees.\n",
      "map.drawmeridians(np.arange(0, 360, 30))\n",
      "map.drawparallels(np.arange(-90, 90, 30))\n",
      "plt.show()"
     ],
     "language": "python",
     "metadata": {},
     "outputs": [],
     "prompt_number": 7
    },
    {
     "cell_type": "code",
     "collapsed": false,
     "input": [
      "# Import the shape file written and try to visualize\n",
      "import shapefile\n",
      "from mpl_toolkits.basemap import Basemap\n",
      "import matplotlib.pyplot as plt\n",
      "\n",
      "\n",
      "\n",
      "from matplotlib.patches import Polygon\n",
      "out_file =r\"Skyhook.shp\"\n",
      "#readshapefile(out_file, plt, drawbounds=True, zorder=None, linewidth=0.5,color='k', antialiased=1, ax=None, default_encoding='utf-8')\n",
      "\n"
     ],
     "language": "python",
     "metadata": {},
     "outputs": [],
     "prompt_number": 44
    },
    {
     "cell_type": "code",
     "collapsed": false,
     "input": [
      "from mpl_toolkits.basemap import Basemap\n",
      "import matplotlib.pyplot as plt\n",
      "import numpy as np\n",
      "# set up orthographic map projection with\n",
      "# perspective of satellite looking down at 50N, 100W.\n",
      "# use low resolution coastlines.\n",
      "llcrnrlon =-73.8\n",
      "llcrnrlat =41.33\n",
      "urcrnrlon = -73.7\n",
      "urcrnrlat =41.5\n",
      "#74.0214,40.6957,-73.9287,40.8159\n",
      "map = Basemap(projection='lcc',lat_0=40.0,lon_0=-73,resolution='h',\\\n",
      "              llcrnrlon=-74.0214, llcrnrlat=40.6957, urcrnrlon=-73.9287, urcrnrlat=40.8159)\n",
      "# draw coastlines, country boundaries, fill continents.\n",
      "map.drawcoastlines(linewidth=0.25)\n",
      "map.drawcountries(linewidth=0.25)\n",
      "map.fillcontinents(color='coral',lake_color='aqua')\n",
      "# draw the edge of the map projection region (the projection limb)\n",
      "map.drawmapboundary(fill_color='aqua')\n",
      "# draw lat/lon grid lines every 30 degrees.\n",
      "#map.drawmeridians(np.arange(0,360,30))\n",
      "#map.drawparallels(np.arange(-90,90,30))\n",
      "#im =plt.imread('ny-map.xml')\n",
      "map.etopo()\n",
      "\n",
      "plt.show()"
     ],
     "language": "python",
     "metadata": {},
     "outputs": [],
     "prompt_number": 5
    },
    {
     "cell_type": "code",
     "collapsed": false,
     "input": [
      "import osmapi\n",
      "api = osmapi.OsmApi()\n",
      "#74.0214,40.6957,-73.9287,40.8159\n",
      "min_lon=-74.0214\n",
      "min_lat=40.6957\n",
      "max_lon=-73.9287\n",
      "max_lat=40.8159\n",
      "\n",
      "print api.Map(min_lon,min_lat,max_lon,max_lat)\n",
      "# {u'changeset': 532907, u'uid': 14298,\n",
      "# u'timestamp': u'2007-09-29T09:19:17Z',\n",
      "# u'lon': 10.790009299999999, u'visible': True,\n",
      "# u'version': 1, u'user': u'Mede',\n",
      "# u'lat': 59.9503044, u'tag': {}, u'id': 123}"
     ],
     "language": "python",
     "metadata": {},
     "outputs": [
      {
       "ename": "error",
       "evalue": "[Errno 101] Network is unreachable",
       "output_type": "pyerr",
       "traceback": [
        "\u001b[1;31m---------------------------------------------------------------------------\u001b[0m\n\u001b[1;31merror\u001b[0m                                     Traceback (most recent call last)",
        "\u001b[1;32m<ipython-input-8-bec36bdcc329>\u001b[0m in \u001b[0;36m<module>\u001b[1;34m()\u001b[0m\n\u001b[0;32m      7\u001b[0m \u001b[0mmax_lat\u001b[0m\u001b[1;33m=\u001b[0m\u001b[1;36m40.8159\u001b[0m\u001b[1;33m\u001b[0m\u001b[0m\n\u001b[0;32m      8\u001b[0m \u001b[1;33m\u001b[0m\u001b[0m\n\u001b[1;32m----> 9\u001b[1;33m \u001b[1;32mprint\u001b[0m \u001b[0mapi\u001b[0m\u001b[1;33m.\u001b[0m\u001b[0mMap\u001b[0m\u001b[1;33m(\u001b[0m\u001b[0mmin_lon\u001b[0m\u001b[1;33m,\u001b[0m\u001b[0mmin_lat\u001b[0m\u001b[1;33m,\u001b[0m\u001b[0mmax_lon\u001b[0m\u001b[1;33m,\u001b[0m\u001b[0mmax_lat\u001b[0m\u001b[1;33m)\u001b[0m\u001b[1;33m\u001b[0m\u001b[0m\n\u001b[0m\u001b[0;32m     10\u001b[0m \u001b[1;31m# {u'changeset': 532907, u'uid': 14298,\u001b[0m\u001b[1;33m\u001b[0m\u001b[1;33m\u001b[0m\u001b[0m\n\u001b[0;32m     11\u001b[0m \u001b[1;31m# u'timestamp': u'2007-09-29T09:19:17Z',\u001b[0m\u001b[1;33m\u001b[0m\u001b[1;33m\u001b[0m\u001b[0m\n",
        "\u001b[1;32m/home/slbryson/anaconda/lib/python2.7/site-packages/osmapi-0.2.24-py2.7.egg/osmapi/OsmApi.pyc\u001b[0m in \u001b[0;36mMap\u001b[1;34m(self, min_lon, min_lat, max_lon, max_lat)\u001b[0m\n\u001b[0;32m    611\u001b[0m             \u001b[1;33m%\u001b[0m \u001b[1;33m(\u001b[0m\u001b[0mmin_lon\u001b[0m\u001b[1;33m,\u001b[0m \u001b[0mmin_lat\u001b[0m\u001b[1;33m,\u001b[0m \u001b[0mmax_lon\u001b[0m\u001b[1;33m,\u001b[0m \u001b[0mmax_lat\u001b[0m\u001b[1;33m)\u001b[0m\u001b[1;33m\u001b[0m\u001b[0m\n\u001b[0;32m    612\u001b[0m         )\n\u001b[1;32m--> 613\u001b[1;33m         \u001b[0mdata\u001b[0m \u001b[1;33m=\u001b[0m \u001b[0mself\u001b[0m\u001b[1;33m.\u001b[0m\u001b[0m_get\u001b[0m\u001b[1;33m(\u001b[0m\u001b[0muri\u001b[0m\u001b[1;33m)\u001b[0m\u001b[1;33m\u001b[0m\u001b[0m\n\u001b[0m\u001b[0;32m    614\u001b[0m         \u001b[1;32mreturn\u001b[0m \u001b[0mself\u001b[0m\u001b[1;33m.\u001b[0m\u001b[0mParseOsm\u001b[0m\u001b[1;33m(\u001b[0m\u001b[0mdata\u001b[0m\u001b[1;33m)\u001b[0m\u001b[1;33m\u001b[0m\u001b[0m\n\u001b[0;32m    615\u001b[0m \u001b[1;33m\u001b[0m\u001b[0m\n",
        "\u001b[1;32m/home/slbryson/anaconda/lib/python2.7/site-packages/osmapi-0.2.24-py2.7.egg/osmapi/OsmApi.pyc\u001b[0m in \u001b[0;36m_get\u001b[1;34m(self, path)\u001b[0m\n\u001b[0;32m    819\u001b[0m \u001b[1;33m\u001b[0m\u001b[0m\n\u001b[0;32m    820\u001b[0m     \u001b[1;32mdef\u001b[0m \u001b[0m_get\u001b[0m\u001b[1;33m(\u001b[0m\u001b[0mself\u001b[0m\u001b[1;33m,\u001b[0m \u001b[0mpath\u001b[0m\u001b[1;33m)\u001b[0m\u001b[1;33m:\u001b[0m\u001b[1;33m\u001b[0m\u001b[0m\n\u001b[1;32m--> 821\u001b[1;33m         \u001b[1;32mreturn\u001b[0m \u001b[0mself\u001b[0m\u001b[1;33m.\u001b[0m\u001b[0m_http\u001b[0m\u001b[1;33m(\u001b[0m\u001b[1;34m'GET'\u001b[0m\u001b[1;33m,\u001b[0m \u001b[0mpath\u001b[0m\u001b[1;33m,\u001b[0m \u001b[0mFalse\u001b[0m\u001b[1;33m,\u001b[0m \u001b[0mNone\u001b[0m\u001b[1;33m)\u001b[0m\u001b[1;33m\u001b[0m\u001b[0m\n\u001b[0m\u001b[0;32m    822\u001b[0m \u001b[1;33m\u001b[0m\u001b[0m\n\u001b[0;32m    823\u001b[0m     \u001b[1;32mdef\u001b[0m \u001b[0m_put\u001b[0m\u001b[1;33m(\u001b[0m\u001b[0mself\u001b[0m\u001b[1;33m,\u001b[0m \u001b[0mpath\u001b[0m\u001b[1;33m,\u001b[0m \u001b[0mdata\u001b[0m\u001b[1;33m)\u001b[0m\u001b[1;33m:\u001b[0m\u001b[1;33m\u001b[0m\u001b[0m\n",
        "\u001b[1;32m/home/slbryson/anaconda/lib/python2.7/site-packages/osmapi-0.2.24-py2.7.egg/osmapi/OsmApi.pyc\u001b[0m in \u001b[0;36m_http\u001b[1;34m(self, cmd, path, auth, send)\u001b[0m\n\u001b[0;32m    801\u001b[0m             \u001b[0mi\u001b[0m \u001b[1;33m+=\u001b[0m \u001b[1;36m1\u001b[0m\u001b[1;33m\u001b[0m\u001b[0m\n\u001b[0;32m    802\u001b[0m             \u001b[1;32mtry\u001b[0m\u001b[1;33m:\u001b[0m\u001b[1;33m\u001b[0m\u001b[0m\n\u001b[1;32m--> 803\u001b[1;33m                 \u001b[1;32mreturn\u001b[0m \u001b[0mself\u001b[0m\u001b[1;33m.\u001b[0m\u001b[0m_http_request\u001b[0m\u001b[1;33m(\u001b[0m\u001b[0mcmd\u001b[0m\u001b[1;33m,\u001b[0m \u001b[0mpath\u001b[0m\u001b[1;33m,\u001b[0m \u001b[0mauth\u001b[0m\u001b[1;33m,\u001b[0m \u001b[0msend\u001b[0m\u001b[1;33m)\u001b[0m\u001b[1;33m\u001b[0m\u001b[0m\n\u001b[0m\u001b[0;32m    804\u001b[0m             \u001b[1;32mexcept\u001b[0m \u001b[0mApiError\u001b[0m\u001b[1;33m,\u001b[0m \u001b[0me\u001b[0m\u001b[1;33m:\u001b[0m\u001b[1;33m\u001b[0m\u001b[0m\n\u001b[0;32m    805\u001b[0m                 \u001b[1;32mif\u001b[0m \u001b[0me\u001b[0m\u001b[1;33m.\u001b[0m\u001b[0mstatus\u001b[0m \u001b[1;33m>=\u001b[0m \u001b[1;36m500\u001b[0m\u001b[1;33m:\u001b[0m\u001b[1;33m\u001b[0m\u001b[0m\n",
        "\u001b[1;32m/home/slbryson/anaconda/lib/python2.7/site-packages/osmapi-0.2.24-py2.7.egg/osmapi/OsmApi.pyc\u001b[0m in \u001b[0;36m_http_request\u001b[1;34m(self, cmd, path, auth, send)\u001b[0m\n\u001b[0;32m    779\u001b[0m         \u001b[1;32mif\u001b[0m \u001b[0msend\u001b[0m \u001b[1;32mis\u001b[0m \u001b[1;32mnot\u001b[0m \u001b[0mNone\u001b[0m\u001b[1;33m:\u001b[0m\u001b[1;33m\u001b[0m\u001b[0m\n\u001b[0;32m    780\u001b[0m             \u001b[0mself\u001b[0m\u001b[1;33m.\u001b[0m\u001b[0m_conn\u001b[0m\u001b[1;33m.\u001b[0m\u001b[0mputheader\u001b[0m\u001b[1;33m(\u001b[0m\u001b[1;34m'Content-Length'\u001b[0m\u001b[1;33m,\u001b[0m \u001b[0mlen\u001b[0m\u001b[1;33m(\u001b[0m\u001b[0msend\u001b[0m\u001b[1;33m)\u001b[0m\u001b[1;33m)\u001b[0m\u001b[1;33m\u001b[0m\u001b[0m\n\u001b[1;32m--> 781\u001b[1;33m         \u001b[0mself\u001b[0m\u001b[1;33m.\u001b[0m\u001b[0m_conn\u001b[0m\u001b[1;33m.\u001b[0m\u001b[0mendheaders\u001b[0m\u001b[1;33m(\u001b[0m\u001b[1;33m)\u001b[0m\u001b[1;33m\u001b[0m\u001b[0m\n\u001b[0m\u001b[0;32m    782\u001b[0m         \u001b[1;32mif\u001b[0m \u001b[0msend\u001b[0m\u001b[1;33m:\u001b[0m\u001b[1;33m\u001b[0m\u001b[0m\n\u001b[0;32m    783\u001b[0m             \u001b[0mself\u001b[0m\u001b[1;33m.\u001b[0m\u001b[0m_conn\u001b[0m\u001b[1;33m.\u001b[0m\u001b[0msend\u001b[0m\u001b[1;33m(\u001b[0m\u001b[0msend\u001b[0m\u001b[1;33m)\u001b[0m\u001b[1;33m\u001b[0m\u001b[0m\n",
        "\u001b[1;32m/home/slbryson/anaconda/lib/python2.7/httplib.pyc\u001b[0m in \u001b[0;36mendheaders\u001b[1;34m(self, message_body)\u001b[0m\n\u001b[0;32m    967\u001b[0m         \u001b[1;32melse\u001b[0m\u001b[1;33m:\u001b[0m\u001b[1;33m\u001b[0m\u001b[0m\n\u001b[0;32m    968\u001b[0m             \u001b[1;32mraise\u001b[0m \u001b[0mCannotSendHeader\u001b[0m\u001b[1;33m(\u001b[0m\u001b[1;33m)\u001b[0m\u001b[1;33m\u001b[0m\u001b[0m\n\u001b[1;32m--> 969\u001b[1;33m         \u001b[0mself\u001b[0m\u001b[1;33m.\u001b[0m\u001b[0m_send_output\u001b[0m\u001b[1;33m(\u001b[0m\u001b[0mmessage_body\u001b[0m\u001b[1;33m)\u001b[0m\u001b[1;33m\u001b[0m\u001b[0m\n\u001b[0m\u001b[0;32m    970\u001b[0m \u001b[1;33m\u001b[0m\u001b[0m\n\u001b[0;32m    971\u001b[0m     \u001b[1;32mdef\u001b[0m \u001b[0mrequest\u001b[0m\u001b[1;33m(\u001b[0m\u001b[0mself\u001b[0m\u001b[1;33m,\u001b[0m \u001b[0mmethod\u001b[0m\u001b[1;33m,\u001b[0m \u001b[0murl\u001b[0m\u001b[1;33m,\u001b[0m \u001b[0mbody\u001b[0m\u001b[1;33m=\u001b[0m\u001b[0mNone\u001b[0m\u001b[1;33m,\u001b[0m \u001b[0mheaders\u001b[0m\u001b[1;33m=\u001b[0m\u001b[1;33m{\u001b[0m\u001b[1;33m}\u001b[0m\u001b[1;33m)\u001b[0m\u001b[1;33m:\u001b[0m\u001b[1;33m\u001b[0m\u001b[0m\n",
        "\u001b[1;32m/home/slbryson/anaconda/lib/python2.7/httplib.pyc\u001b[0m in \u001b[0;36m_send_output\u001b[1;34m(self, message_body)\u001b[0m\n\u001b[0;32m    827\u001b[0m             \u001b[0mmsg\u001b[0m \u001b[1;33m+=\u001b[0m \u001b[0mmessage_body\u001b[0m\u001b[1;33m\u001b[0m\u001b[0m\n\u001b[0;32m    828\u001b[0m             \u001b[0mmessage_body\u001b[0m \u001b[1;33m=\u001b[0m \u001b[0mNone\u001b[0m\u001b[1;33m\u001b[0m\u001b[0m\n\u001b[1;32m--> 829\u001b[1;33m         \u001b[0mself\u001b[0m\u001b[1;33m.\u001b[0m\u001b[0msend\u001b[0m\u001b[1;33m(\u001b[0m\u001b[0mmsg\u001b[0m\u001b[1;33m)\u001b[0m\u001b[1;33m\u001b[0m\u001b[0m\n\u001b[0m\u001b[0;32m    830\u001b[0m         \u001b[1;32mif\u001b[0m \u001b[0mmessage_body\u001b[0m \u001b[1;32mis\u001b[0m \u001b[1;32mnot\u001b[0m \u001b[0mNone\u001b[0m\u001b[1;33m:\u001b[0m\u001b[1;33m\u001b[0m\u001b[0m\n\u001b[0;32m    831\u001b[0m             \u001b[1;31m#message_body was not a string (i.e. it is a file) and\u001b[0m\u001b[1;33m\u001b[0m\u001b[1;33m\u001b[0m\u001b[0m\n",
        "\u001b[1;32m/home/slbryson/anaconda/lib/python2.7/httplib.pyc\u001b[0m in \u001b[0;36msend\u001b[1;34m(self, data)\u001b[0m\n\u001b[0;32m    789\u001b[0m         \u001b[1;32mif\u001b[0m \u001b[0mself\u001b[0m\u001b[1;33m.\u001b[0m\u001b[0msock\u001b[0m \u001b[1;32mis\u001b[0m \u001b[0mNone\u001b[0m\u001b[1;33m:\u001b[0m\u001b[1;33m\u001b[0m\u001b[0m\n\u001b[0;32m    790\u001b[0m             \u001b[1;32mif\u001b[0m \u001b[0mself\u001b[0m\u001b[1;33m.\u001b[0m\u001b[0mauto_open\u001b[0m\u001b[1;33m:\u001b[0m\u001b[1;33m\u001b[0m\u001b[0m\n\u001b[1;32m--> 791\u001b[1;33m                 \u001b[0mself\u001b[0m\u001b[1;33m.\u001b[0m\u001b[0mconnect\u001b[0m\u001b[1;33m(\u001b[0m\u001b[1;33m)\u001b[0m\u001b[1;33m\u001b[0m\u001b[0m\n\u001b[0m\u001b[0;32m    792\u001b[0m             \u001b[1;32melse\u001b[0m\u001b[1;33m:\u001b[0m\u001b[1;33m\u001b[0m\u001b[0m\n\u001b[0;32m    793\u001b[0m                 \u001b[1;32mraise\u001b[0m \u001b[0mNotConnected\u001b[0m\u001b[1;33m(\u001b[0m\u001b[1;33m)\u001b[0m\u001b[1;33m\u001b[0m\u001b[0m\n",
        "\u001b[1;32m/home/slbryson/anaconda/lib/python2.7/httplib.pyc\u001b[0m in \u001b[0;36mconnect\u001b[1;34m(self)\u001b[0m\n\u001b[0;32m    770\u001b[0m         \u001b[1;34m\"\"\"Connect to the host and port specified in __init__.\"\"\"\u001b[0m\u001b[1;33m\u001b[0m\u001b[0m\n\u001b[0;32m    771\u001b[0m         self.sock = socket.create_connection((self.host,self.port),\n\u001b[1;32m--> 772\u001b[1;33m                                              self.timeout, self.source_address)\n\u001b[0m\u001b[0;32m    773\u001b[0m \u001b[1;33m\u001b[0m\u001b[0m\n\u001b[0;32m    774\u001b[0m         \u001b[1;32mif\u001b[0m \u001b[0mself\u001b[0m\u001b[1;33m.\u001b[0m\u001b[0m_tunnel_host\u001b[0m\u001b[1;33m:\u001b[0m\u001b[1;33m\u001b[0m\u001b[0m\n",
        "\u001b[1;32m/home/slbryson/anaconda/lib/python2.7/socket.pyc\u001b[0m in \u001b[0;36mcreate_connection\u001b[1;34m(address, timeout, source_address)\u001b[0m\n\u001b[0;32m    569\u001b[0m \u001b[1;33m\u001b[0m\u001b[0m\n\u001b[0;32m    570\u001b[0m     \u001b[1;32mif\u001b[0m \u001b[0merr\u001b[0m \u001b[1;32mis\u001b[0m \u001b[1;32mnot\u001b[0m \u001b[0mNone\u001b[0m\u001b[1;33m:\u001b[0m\u001b[1;33m\u001b[0m\u001b[0m\n\u001b[1;32m--> 571\u001b[1;33m         \u001b[1;32mraise\u001b[0m \u001b[0merr\u001b[0m\u001b[1;33m\u001b[0m\u001b[0m\n\u001b[0m\u001b[0;32m    572\u001b[0m     \u001b[1;32melse\u001b[0m\u001b[1;33m:\u001b[0m\u001b[1;33m\u001b[0m\u001b[0m\n\u001b[0;32m    573\u001b[0m         \u001b[1;32mraise\u001b[0m \u001b[0merror\u001b[0m\u001b[1;33m(\u001b[0m\u001b[1;34m\"getaddrinfo returns an empty list\"\u001b[0m\u001b[1;33m)\u001b[0m\u001b[1;33m\u001b[0m\u001b[0m\n",
        "\u001b[1;31merror\u001b[0m: [Errno 101] Network is unreachable"
       ]
      }
     ],
     "prompt_number": 8
    },
    {
     "cell_type": "code",
     "collapsed": false,
     "input": [],
     "language": "python",
     "metadata": {},
     "outputs": []
    }
   ],
   "metadata": {}
  }
 ]
}