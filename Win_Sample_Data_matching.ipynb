{
 "metadata": {
  "name": ""
 },
 "nbformat": 3,
 "nbformat_minor": 0,
 "worksheets": [
  {
   "cells": [
    {
     "cell_type": "code",
     "collapsed": false,
     "input": [
      "import numpy as np\n",
      "L = []\n",
      "\n",
      "K = [ 1 ,2 ,3, 4, 5]\n",
      "for i in range(len(K)):\n",
      "    K[i] += 1\n",
      "    print i\n",
      "    \n",
      "L = [ [1, 2, 3], [4, 5, 6], [7, 8, 9]]\n",
      "#Key to make he assignment work. Also needed to know what size to initialize try_this\n",
      "my_new = []\n",
      "s =(4, 5)\n",
      "try_this = np.zeros(s)\n",
      "\n",
      "print \"\\n Loop\"\n",
      "\n",
      "for i in range(3):\n",
      "    for j in range(3):\n",
      "        print i, j\n",
      "        L[i][j] +=1\n",
      "        my_new.append(L[i][j]) # This doesn't work because it doesn't create a list of lists i.e. matrix\n",
      "        try_this[i+1][j+1] =float(L[i][j])+1 # this works! But note how we need to initialize the structure with zeros\n",
      "    \n",
      "    \n",
      "print \"L = \", L, \"\\nNew matrix \", my_new, \"\\ntry_this\\n\", try_this"
     ],
     "language": "python",
     "metadata": {},
     "outputs": [],
     "prompt_number": "*"
    },
    {
     "cell_type": "code",
     "collapsed": false,
     "input": [
      "catch = try_this.mean(axis=0)\n",
      "catch = try_this.sum(0)\n",
      "catch2 =  (try_this !=0).sum(0)  # counts the number of rows nonzero!!\n",
      "catch2 = catch2.astype(int)\n",
      "# the array should be 1 X number of columns in catch or catch2\n",
      "s= (len(try_this),len(try_this.transpose()))\n",
      "print s\n",
      "catch3= np.zeros(s)\n",
      "print \"\\n catch 3 first time = \\n\", try_this\n",
      "\n",
      "# Try to divide the sum columns by the total number of element\n",
      "# Total number of elements \n",
      "for col in range(len(catch)):\n",
      "    if catch2[col] != 0:catch3[col]= float(catch[col]/catch2[col])\n",
      "# lets try a better way to find the mean of the columns\n",
      "catch3 = try_this.sum(0) / (try_this != 0).sum(0)\n",
      "\n",
      "print \"catch \\n\", catch\n",
      "print \"catch2 \\n\", catch2\n",
      "i  = catch3[~np.isnan(catch3)]\n",
      "print \"\\n  Right answer first time = \\n\", catch3, \"\\n\", i\n",
      "\n",
      "s =(len(try_this), len(try_this))\n",
      "catch3 = np.zeros(s)\n",
      "\n",
      "i,j=try_this.nonzero() # this statement plus the zip below will save the non-zero indices\n",
      "c = zip(i,j)\n",
      "\n",
      "print \"catch is a sum = \", catch, '\\nsize of catch or catch.size', catch.size, \"\\nndim = \", catch.ndim \n",
      "\n",
      "print \"zipped coordinates\\n\",zip(i,j)\n",
      "     "
     ],
     "language": "python",
     "metadata": {},
     "outputs": [
      {
       "output_type": "stream",
       "stream": "stdout",
       "text": [
        "(4, 5)\n",
        "\n",
        " catch 3 first time = \n",
        "[[  0.   0.   0.   0.   0.]\n",
        " [  0.   3.   4.   5.   0.]\n",
        " [  0.   6.   7.   8.   0.]\n",
        " [  0.   9.  10.  11.   0.]]\n",
        "catch \n",
        "[  0.  18.  21.  24.   0.]\n",
        "catch2 \n",
        "[0 3 3 3 0]\n",
        "\n",
        "  Right answer first time = \n",
        "[ nan   6.   7.   8.  nan] \n",
        "[ 6.  7.  8.]\n",
        "catch is a sum =  [  0.  18.  21.  24.   0.] \n",
        "size of catch or catch.size 5 \n",
        "ndim =  1\n",
        "zipped coordinates\n",
        "[(1, 1), (1, 2), (1, 3), (2, 1), (2, 2), (2, 3), (3, 1), (3, 2), (3, 3)]\n"
       ]
      }
     ],
     "prompt_number": 22
    },
    {
     "cell_type": "code",
     "collapsed": false,
     "input": [
      "\n",
      " \n",
      "print \"\\n#########################\"\n",
      "for row,col in enumerate(try_this):\n",
      "    print 'try_this[row]', try_this[row]\n",
      "    print 'try_this.mean', try_this.mean(axis=0) \n",
      "    print 'column = ', col, 'row = ', row\n",
      "     \n",
      "# next is to grab the non-zero columns.  So first go back and make the matrix 4x4 and create some zero elements\n",
      "\n",
      " "
     ],
     "language": "python",
     "metadata": {},
     "outputs": [
      {
       "output_type": "stream",
       "stream": "stdout",
       "text": [
        "\n",
        "#########################\n",
        "try_this[row] [ 0.  0.  0.  0.  0.]\n",
        "try_this.mean [ 0.    4.5   5.25  6.    0.  ]\n",
        "column =  [ 0.  0.  0.  0.  0.] row =  0\n",
        "try_this[row] [ 0.  3.  4.  5.  0.]\n",
        "try_this.mean [ 0.    4.5   5.25  6.    0.  ]\n",
        "column =  [ 0.  3.  4.  5.  0.] row =  1\n",
        "try_this[row] [ 0.  6.  7.  8.  0.]\n",
        "try_this.mean [ 0.    4.5   5.25  6.    0.  ]\n",
        "column =  [ 0.  6.  7.  8.  0.] row =  2\n",
        "try_this[row] [  0.   9.  10.  11.   0.]\n",
        "try_this.mean [ 0.    4.5   5.25  6.    0.  ]\n",
        "column =  [  0.   9.  10.  11.   0.] row =  3\n"
       ]
      }
     ],
     "prompt_number": 23
    },
    {
     "cell_type": "code",
     "collapsed": false,
     "input": [
      "# Create some dummy location data\n",
      "#Match an index and perform the operations\n",
      "import numpy as np\n",
      "import random\n",
      "\n",
      "name = 'cellid'\n",
      "lat =[]\n",
      "lon=[]\n",
      "loc_length = 20\n",
      "#build and id list for the cell names We will make the location vector a little shorter than the data vector\n",
      "name =[name + str(row) for row in range(loc_length)]\n",
      "random.shuffle(name)\n",
      "print name\n",
      "\n",
      "\n",
      "#build some random coordinates\n",
      "lat  =[42]*loc_length \n",
      "lon = [-73]*loc_length\n",
      "#clat = np.zeros(loc_length)\n",
      "clat = np.random.rand(loc_length)\n",
      "print \"clat = \\n\", clat\n",
      "lat += clat\n",
      "lon += -clat\n",
      "loc =  zip(name,lat,lon)\n",
      " \n",
      "print \"Lat \\n\", lat, \"\\nLon \\n\", lon\n",
      "print \"Location =\\n\", loc\n"
     ],
     "language": "python",
     "metadata": {},
     "outputs": [
      {
       "output_type": "stream",
       "stream": "stdout",
       "text": [
        "['cellid5', 'cellid1', 'cellid9', 'cellid11', 'cellid17', 'cellid0', 'cellid2', 'cellid8', 'cellid10', 'cellid13', 'cellid16', 'cellid18', 'cellid3', 'cellid12', 'cellid6', 'cellid14', 'cellid19', 'cellid15', 'cellid7', 'cellid4']\n",
        "clat = \n",
        "[ 0.87201317  0.09578983  0.02123654  0.95690724  0.95516703  0.99262348\n",
        "  0.11668246  0.79599706  0.25618095  0.30011608  0.26892576  0.68265974\n",
        "  0.24782588  0.2843063   0.14455693  0.93063221  0.31460506  0.94329434\n",
        "  0.60674731  0.7254273 ]\n",
        "Lat \n",
        "[ 42.87201317  42.09578983  42.02123654  42.95690724  42.95516703\n",
        "  42.99262348  42.11668246  42.79599706  42.25618095  42.30011608\n",
        "  42.26892576  42.68265974  42.24782588  42.2843063   42.14455693\n",
        "  42.93063221  42.31460506  42.94329434  42.60674731  42.7254273 ] \n",
        "Lon \n",
        "[-73.87201317 -73.09578983 -73.02123654 -73.95690724 -73.95516703\n",
        " -73.99262348 -73.11668246 -73.79599706 -73.25618095 -73.30011608\n",
        " -73.26892576 -73.68265974 -73.24782588 -73.2843063  -73.14455693\n",
        " -73.93063221 -73.31460506 -73.94329434 -73.60674731 -73.7254273 ]\n",
        "Location =\n",
        "[('cellid5', 42.872013171041445, -73.872013171041445), ('cellid1', 42.09578983024408, -73.095789830244073), ('cellid9', 42.021236542806669, -73.021236542806662), ('cellid11', 42.956907244575866, -73.956907244575874), ('cellid17', 42.955167026341464, -73.955167026341456), ('cellid0', 42.992623475014966, -73.992623475014966), ('cellid2', 42.116682464907598, -73.116682464907598), ('cellid8', 42.795997061750249, -73.795997061750256), ('cellid10', 42.256180949836363, -73.256180949836363), ('cellid13', 42.300116077046198, -73.300116077046198), ('cellid16', 42.268925757268264, -73.268925757268264), ('cellid18', 42.682659736562734, -73.682659736562726), ('cellid3', 42.247825878002125, -73.247825878002132), ('cellid12', 42.284306302420966, -73.284306302420973), ('cellid6', 42.144556933166015, -73.144556933166015), ('cellid14', 42.930632214748471, -73.930632214748471), ('cellid19', 42.314605059404407, -73.314605059404414), ('cellid15', 42.943294336053995, -73.943294336053995), ('cellid7', 42.606747309603492, -73.606747309603492), ('cellid4', 42.725427300940467, -73.725427300940467)]\n"
       ]
      }
     ],
     "prompt_number": 24
    },
    {
     "cell_type": "code",
     "collapsed": false,
     "input": [
      "#now create some dummy data\n",
      "import numpy as np\n",
      "date =name2 =[]\n",
      "\n",
      "date ='20140100'\n",
      "length_data = 10\n",
      "date =[date + str(row) for row in range(length_data)]\n",
      " \n",
      "\n",
      "dbdata1 = np.random.randint(0,1500,length_data)\n",
      " \n",
      "s =(len(loc), len(dbdata1))\n",
      "\n",
      "try_this = np.zeros(s)\n",
      "# Randomly shuffle the columns, first transpose since the shuffle works on rows\n",
      "# this helps verify that we are finding the right matches.\n",
      "random.shuffle(name)\n",
      "\n",
      "\n",
      "#loc = np.transpose(loc)\n",
      "#These Statements just create a random set of data in the range of 0 to 750.  We want the data item in \n",
      "#position 3.  the actual data is formatted this way so we have to hard code it.\n",
      "\n",
      "dbdata2 = np.random.randint(0,750,length_data)\n",
      "dbdata = zip(date,name,dbdata1,dbdata2)\n",
      "\n",
      "print \"How long is our data set?  \", len(dbdata1), len(dbdata2),\"Name = \", len(name)\n",
      "#np.clip(dbdata, 5, 75, dbdata)\n",
      "# Note this will extract data that matches cellid in both sets and form a new matrix\n",
      "# is is assumed the matching index is in position 2 and the data is in position 3.\n",
      "for row in range(len(loc)):\n",
      "    for col in range(len(dbdata)):\n",
      "        #do something;\n",
      "        if loc[row][0] == dbdata[col][1]:\n",
      "         try_this[row][col] =dbdata[col][2]"
     ],
     "language": "python",
     "metadata": {},
     "outputs": [
      {
       "output_type": "stream",
       "stream": "stdout",
       "text": [
        "How long is our data set?   10 10 Name =  20\n"
       ]
      }
     ],
     "prompt_number": 31
    },
    {
     "cell_type": "code",
     "collapsed": false,
     "input": [
      "\n",
      "print \"loc = \\n\", loc\n",
      "print \"dbdata \\n\", dbdata\n",
      "print \"\\n\"\n",
      "print try_this\n"
     ],
     "language": "python",
     "metadata": {},
     "outputs": [
      {
       "output_type": "stream",
       "stream": "stdout",
       "text": [
        "loc = \n",
        "[('cellid5', 42.872013171041445, -73.872013171041445), ('cellid1', 42.09578983024408, -73.095789830244073), ('cellid9', 42.021236542806669, -73.021236542806662), ('cellid11', 42.956907244575866, -73.956907244575874), ('cellid17', 42.955167026341464, -73.955167026341456), ('cellid0', 42.992623475014966, -73.992623475014966), ('cellid2', 42.116682464907598, -73.116682464907598), ('cellid8', 42.795997061750249, -73.795997061750256), ('cellid10', 42.256180949836363, -73.256180949836363), ('cellid13', 42.300116077046198, -73.300116077046198), ('cellid16', 42.268925757268264, -73.268925757268264), ('cellid18', 42.682659736562734, -73.682659736562726), ('cellid3', 42.247825878002125, -73.247825878002132), ('cellid12', 42.284306302420966, -73.284306302420973), ('cellid6', 42.144556933166015, -73.144556933166015), ('cellid14', 42.930632214748471, -73.930632214748471), ('cellid19', 42.314605059404407, -73.314605059404414), ('cellid15', 42.943294336053995, -73.943294336053995), ('cellid7', 42.606747309603492, -73.606747309603492), ('cellid4', 42.725427300940467, -73.725427300940467)]\n",
        "dbdata \n",
        "[('201401000', 'cellid8', 486, 56), ('201401001', 'cellid5', 1207, 477), ('201401002', 'cellid14', 1229, 432), ('201401003', 'cellid2', 1015, 212), ('201401004', 'cellid7', 1425, 361), ('201401005', 'cellid0', 607, 35), ('201401006', 'cellid6', 477, 719), ('201401007', 'cellid1', 622, 145), ('201401008', 'cellid12', 381, 59), ('201401009', 'cellid13', 1147, 279)]\n",
        "\n",
        "\n",
        "[[    0.  1207.     0.     0.     0.     0.     0.     0.     0.     0.]\n",
        " [    0.     0.     0.     0.     0.     0.     0.   622.     0.     0.]\n",
        " [    0.     0.     0.     0.     0.     0.     0.     0.     0.     0.]\n",
        " [    0.     0.     0.     0.     0.     0.     0.     0.     0.     0.]\n",
        " [    0.     0.     0.     0.     0.     0.     0.     0.     0.     0.]\n",
        " [    0.     0.     0.     0.     0.   607.     0.     0.     0.     0.]\n",
        " [    0.     0.     0.  1015.     0.     0.     0.     0.     0.     0.]\n",
        " [  486.     0.     0.     0.     0.     0.     0.     0.     0.     0.]\n",
        " [    0.     0.     0.     0.     0.     0.     0.     0.     0.     0.]\n",
        " [    0.     0.     0.     0.     0.     0.     0.     0.     0.  1147.]\n",
        " [    0.     0.     0.     0.     0.     0.     0.     0.     0.     0.]\n",
        " [    0.     0.     0.     0.     0.     0.     0.     0.     0.     0.]\n",
        " [    0.     0.     0.     0.     0.     0.     0.     0.     0.     0.]\n",
        " [    0.     0.     0.     0.     0.     0.     0.     0.   381.     0.]\n",
        " [    0.     0.     0.     0.     0.     0.   477.     0.     0.     0.]\n",
        " [    0.     0.  1229.     0.     0.     0.     0.     0.     0.     0.]\n",
        " [    0.     0.     0.     0.     0.     0.     0.     0.     0.     0.]\n",
        " [    0.     0.     0.     0.     0.     0.     0.     0.     0.     0.]\n",
        " [    0.     0.     0.     0.  1425.     0.     0.     0.     0.     0.]\n",
        " [    0.     0.     0.     0.     0.     0.     0.     0.     0.     0.]]\n"
       ]
      }
     ],
     "prompt_number": 32
    },
    {
     "cell_type": "code",
     "collapsed": false,
     "input": [
      "# Now get the indices\n",
      "i,j=try_this.nonzero() # this statement plus the zip below will save the non-zero indices\n",
      "c = zip(i,j)\n",
      "\n",
      "\n",
      "print \"zipped coordinates\\n\",c, \"\\n Shape of try_this\\n\", try_this.shape\n",
      "i = zip(*c)\n",
      "print \"unzipped of row \\n\", i[0], \"\\n\", i[1]"
     ],
     "language": "python",
     "metadata": {},
     "outputs": [
      {
       "output_type": "stream",
       "stream": "stdout",
       "text": [
        "zipped coordinates\n",
        "[(0, 1), (1, 7), (5, 5), (6, 3), (7, 0), (9, 9), (13, 8), (14, 6), (15, 2), (18, 4)] \n",
        " Shape of try_this\n",
        "(20L, 10L)\n",
        "unzipped of row \n",
        "(0, 1, 5, 6, 7, 9, 13, 14, 15, 18) \n",
        "(1, 7, 5, 3, 0, 9, 8, 6, 2, 4)\n"
       ]
      }
     ],
     "prompt_number": 33
    },
    {
     "cell_type": "markdown",
     "metadata": {},
     "source": [
      "<b? Perfect </b>"
     ]
    },
    {
     "cell_type": "markdown",
     "metadata": {},
     "source": [
      "<b> Perfect </b>"
     ]
    },
    {
     "cell_type": "code",
     "collapsed": false,
     "input": [
      "#in the event we have coordinates of the match, only the rows correspond with the match between cell id in the location matrix.\n",
      "# So sub-sample the location matrix with matches.\n",
      "\n",
      "# lets try a better way to find the mean of the columns\n",
      "my_mean = try_this.sum(1) / (try_this != 0).sum(1)\n",
      "\n",
      "print my_mean\n"
     ],
     "language": "python",
     "metadata": {},
     "outputs": [
      {
       "output_type": "stream",
       "stream": "stdout",
       "text": [
        "[ 1207.   622.    nan    nan    nan   607.  1015.   486.    nan  1147.\n",
        "    nan    nan    nan   381.   477.  1229.    nan    nan  1425.    nan]\n"
       ]
      }
     ],
     "prompt_number": 34
    },
    {
     "cell_type": "code",
     "collapsed": false,
     "input": [
      "# i[0] is the column coordinate of the matched cell.  \n",
      "# Now a is a test vector with id, x-lat, and y-long.\n",
      "# No cc is a mean vector corresponding to the test vector a.\n",
      "a = map(lambda row: loc[row],i[0])\n",
      "cc = map(lambda row: my_mean[row],i[0])\n",
      "print \"a =\\n\", a, \"length ? =\", len(a)\n",
      "print \"cc = \\n\", cc, \"length ? = \", len(cc)"
     ],
     "language": "python",
     "metadata": {},
     "outputs": [
      {
       "output_type": "stream",
       "stream": "stdout",
       "text": [
        "a =\n",
        "[('cellid5', 42.872013171041445, -73.872013171041445), ('cellid1', 42.09578983024408, -73.095789830244073), ('cellid0', 42.992623475014966, -73.992623475014966), ('cellid2', 42.116682464907598, -73.116682464907598), ('cellid8', 42.795997061750249, -73.795997061750256), ('cellid13', 42.300116077046198, -73.300116077046198), ('cellid12', 42.284306302420966, -73.284306302420973), ('cellid6', 42.144556933166015, -73.144556933166015), ('cellid14', 42.930632214748471, -73.930632214748471), ('cellid7', 42.606747309603492, -73.606747309603492)] length ? = 10\n",
        "cc = \n",
        "[1207.0, 622.0, 607.0, 1015.0, 486.0, 1147.0, 381.0, 477.0, 1229.0, 1425.0] length ? =  10\n"
       ]
      }
     ],
     "prompt_number": 35
    },
    {
     "cell_type": "code",
     "collapsed": false,
     "input": [
      "#Now create a short function or module in python that takes input of location matrix and input\n",
      "#of a data matrix, matches location by cell name then computes the average of all matched\n",
      "#cells and returns the mean and the matched location of the cells.\n",
      "# loc should have columns nameid, lat, long; dbdata should have nameid, data1,data2\n",
      "# we are interested in the data2 or third column of the data\n",
      "\n",
      "def cell_mm(loc,dbdata):\n",
      "    # In this case mm means match and mean.  This is a specific module used to match UMTS data\n",
      "    # with UMTS location data and compute the mean.\n",
      "    import numpy as np\n",
      "     \n",
      "    # Critical that try_this is initialized to be able to do the assignment correctly.\n",
      "    s =(len(loc), len(dbdata))\n",
      "    try_this = np.zeros(s)\n",
      "    # We will match data with cell location. Note the non-zero elements and corresponding indices\n",
      "    # denote the location of matches between cells. \n",
      "    # Note this will extract data that matches cellid in both sets and form a new matrix\n",
      "    # is is assumed the matching index is in position 2 and the data is in position 3.\n",
      "    for row in range(len(loc)):\n",
      "        for col in range(len(dbdata)):\n",
      "            #do something;\n",
      "            if loc[row][0] == dbdata[col][1]:\n",
      "             try_this[row][col] =dbdata[col][2]\n",
      "    # Now get the indices\n",
      "    i,j=try_this.nonzero() # this statement plus the zip below will save the non-zero indices\n",
      "    c = zip(i,j)\n",
      "    #print \"zipped coordinates\\n\",c, \"\\n Shape of try_this\\n\", try_this.shape\n",
      "    ind = zip(*c)\n",
      "    # We will compute the mean of the matches\n",
      "    #in the event we have coordinates of the match, only the rows correspond with the match between cell id in the location matrix.\n",
      "    # So sub-sample the location matrix with matches.\n",
      "\n",
      "    # lets try a better way to find the mean of the columns\n",
      "    my_mean = try_this.sum(1) / (try_this != 0).sum(1)\n",
      "    # We will return the mean vector and corresponding location of the matches\n",
      "  \n",
      "    \n",
      "    return ind,my_mean"
     ],
     "language": "python",
     "metadata": {},
     "outputs": [],
     "prompt_number": 52
    },
    {
     "cell_type": "code",
     "collapsed": false,
     "input": [
      "#Test call of cell_mm\n",
      "#Inputs needed are the location data and dbdata. \n",
      "smean = ind =[]\n",
      "print smean,ind\n",
      "ind, smean= cell_mm(loc,dbdata)\n",
      "a = map(lambda row: loc[row],ind[0])\n",
      "cc = map(lambda row: smean[row],ind[0])\n",
      "norma = cc/np.linalg.norm(cc, ord =1)\n",
      "print \"a =\\n\", a, \"length ? =\", len(a)\n",
      "print \"cc = \\n\", cc, \"length ? = \", len(cc)\n",
      "print norma"
     ],
     "language": "python",
     "metadata": {},
     "outputs": [
      {
       "ename": "ValueError",
       "evalue": "too many values to unpack",
       "output_type": "pyerr",
       "traceback": [
        "\u001b[1;31m---------------------------------------------------------------------------\u001b[0m\n\u001b[1;31mValueError\u001b[0m                                Traceback (most recent call last)",
        "\u001b[1;32m<ipython-input-54-0c63f06747ac>\u001b[0m in \u001b[0;36m<module>\u001b[1;34m()\u001b[0m\n\u001b[0;32m      3\u001b[0m \u001b[0msmean\u001b[0m \u001b[1;33m=\u001b[0m \u001b[0mind\u001b[0m \u001b[1;33m=\u001b[0m\u001b[1;33m[\u001b[0m\u001b[1;33m]\u001b[0m\u001b[1;33m\u001b[0m\u001b[0m\n\u001b[0;32m      4\u001b[0m \u001b[1;32mprint\u001b[0m \u001b[0msmean\u001b[0m\u001b[1;33m,\u001b[0m\u001b[0mind\u001b[0m\u001b[1;33m\u001b[0m\u001b[0m\n\u001b[1;32m----> 5\u001b[1;33m \u001b[0mind\u001b[0m\u001b[1;33m,\u001b[0m \u001b[0msmean\u001b[0m\u001b[1;33m=\u001b[0m \u001b[0mcell_mm\u001b[0m\u001b[1;33m(\u001b[0m\u001b[0mloc\u001b[0m\u001b[1;33m,\u001b[0m\u001b[0mdbdata\u001b[0m\u001b[1;33m)\u001b[0m\u001b[1;33m\u001b[0m\u001b[0m\n\u001b[0m\u001b[0;32m      6\u001b[0m \u001b[0ma\u001b[0m \u001b[1;33m=\u001b[0m \u001b[0mmap\u001b[0m\u001b[1;33m(\u001b[0m\u001b[1;32mlambda\u001b[0m \u001b[0mrow\u001b[0m\u001b[1;33m:\u001b[0m \u001b[0mloc\u001b[0m\u001b[1;33m[\u001b[0m\u001b[0mrow\u001b[0m\u001b[1;33m]\u001b[0m\u001b[1;33m,\u001b[0m\u001b[0mind\u001b[0m\u001b[1;33m[\u001b[0m\u001b[1;36m0\u001b[0m\u001b[1;33m]\u001b[0m\u001b[1;33m)\u001b[0m\u001b[1;33m\u001b[0m\u001b[0m\n\u001b[0;32m      7\u001b[0m \u001b[0mcc\u001b[0m \u001b[1;33m=\u001b[0m \u001b[0mmap\u001b[0m\u001b[1;33m(\u001b[0m\u001b[1;32mlambda\u001b[0m \u001b[0mrow\u001b[0m\u001b[1;33m:\u001b[0m \u001b[0msmean\u001b[0m\u001b[1;33m[\u001b[0m\u001b[0mrow\u001b[0m\u001b[1;33m]\u001b[0m\u001b[1;33m,\u001b[0m\u001b[0mind\u001b[0m\u001b[1;33m[\u001b[0m\u001b[1;36m0\u001b[0m\u001b[1;33m]\u001b[0m\u001b[1;33m)\u001b[0m\u001b[1;33m\u001b[0m\u001b[0m\n",
        "\u001b[1;31mValueError\u001b[0m: too many values to unpack"
       ]
      },
      {
       "output_type": "stream",
       "stream": "stdout",
       "text": [
        "[] []\n"
       ]
      }
     ],
     "prompt_number": 54
    },
    {
     "cell_type": "code",
     "collapsed": false,
     "input": [
      "import numpy as np\n",
      "from sklearn.preprocessing import normalize\n",
      "\n",
      "x = np.random.rand(1000)*10\n",
      "\n",
      "norm1 = x / np.linalg.norm(x)\n",
      "\n",
      "norm2 = normalize(x[:,np.newaxis], axis=0).ravel()\n",
      "print np.all(norm1 == norm2)\n",
      "# True"
     ],
     "language": "python",
     "metadata": {},
     "outputs": [
      {
       "output_type": "stream",
       "stream": "stdout",
       "text": [
        "True\n"
       ]
      }
     ],
     "prompt_number": 11
    },
    {
     "cell_type": "code",
     "collapsed": false,
     "input": [],
     "language": "python",
     "metadata": {},
     "outputs": []
    }
   ],
   "metadata": {}
  }
 ]
}