{
 "metadata": {
  "name": ""
 },
 "nbformat": 3,
 "nbformat_minor": 0,
 "worksheets": [
  {
   "cells": [
    {
     "cell_type": "code",
     "collapsed": false,
     "input": [
      "import datetime\n",
      "import pyodbc\n",
      "constr =r'DSN=sqlserverdatasource;DRIVER={FreeTDS}; DATABASE=wms_kpi;\\\n",
      "uid=slbryson; Pwd=janfeb222!;'\n",
      "\n",
      "cnxn = pyodbc.connect(constr)\n",
      "cursor = cnxn.cursor()\n",
      "str = \"select * from wms_kpi.dbo.test\" \n",
      " \n",
      "str = str\n",
      "print str\n",
      "\n",
      "#cursor.execute(\"select cell from wms_kpi.dbo.test\")\n",
      "how_many = cursor.execute(str)\n",
      "print how_many.description\n",
      "rows = cursor.fetchmany(2)    \n",
      "#rows = cursor.fetchall()\n",
      "\n",
      "for row in rows:\n",
      "    print rows\n",
      "\n",
      "print \"\\n\\n\"\n",
      "#for row in range(12,15):\n",
      "    #print rows[row]\n",
      "    \n",
      "#In this example we select on cell and fetch only six records. \n",
      "str2 = \"select cell from wms_kpi.dbo.test\"\n",
      "cursor.execute(str)\n",
      "for row in range(1,6):\n",
      "    rows =cursor.fetchone()\n",
      "    print rows\n",
      "\n",
      " \n",
      "     "
     ],
     "language": "python",
     "metadata": {},
     "outputs": [
      {
       "output_type": "stream",
       "stream": "stdout",
       "text": [
        "select * from wms_kpi.dbo.test\n",
        "(('startDateTime', <type 'datetime.datetime'>, None, 23, 23, 3, True), ('cell', <type 'str'>, None, 255, 255, 0, True), ('totCSRRCAtts', <type 'float'>, None, 24, 24, 0, True), ('totPSRRCAtts', <type 'float'>, None, 24, 24, 0, True), ('kpi16', <type 'float'>, None, 24, 24, 0, True), ('kpi35p', <type 'float'>, None, 24, 24, 0, True))"
       ]
      },
      {
       "output_type": "stream",
       "stream": "stdout",
       "text": [
        "\n",
        "[(datetime.datetime(2013, 6, 19, 16, 30), 'NYNYU2213A', 27.0, 1108.0, 99.48999786376953, 99.83000183105469), (datetime.datetime(2013, 4, 29, 16, 30), 'NYNYU2092A', 35.0, 1084.0, 100.08999633789062, 100.0)]\n",
        "[(datetime.datetime(2013, 6, 19, 16, 30), 'NYNYU2213A', 27.0, 1108.0, 99.48999786376953, 99.83000183105469), (datetime.datetime(2013, 4, 29, 16, 30), 'NYNYU2092A', 35.0, 1084.0, 100.08999633789062, 100.0)]\n",
        "\n",
        "\n",
        "\n",
        "(datetime.datetime(2013, 6, 19, 16, 30), 'NYNYU2213A', 27.0, 1108.0, 99.48999786376953, 99.83000183105469)"
       ]
      },
      {
       "output_type": "stream",
       "stream": "stdout",
       "text": [
        "\n",
        "(datetime.datetime(2013, 4, 29, 16, 30), 'NYNYU2092A', 35.0, 1084.0, 100.08999633789062, 100.0)\n",
        "(datetime.datetime(2013, 5, 2, 16, 30), 'NYNYU2213A', 45.0, 1011.0, 100.30000305175781, 100.30000305175781)\n",
        "(datetime.datetime(2013, 5, 2, 16, 30), 'NYSCU5163A', 42.0, 1875.0, 95.01000213623047, 95.51000213623047)\n",
        "(datetime.datetime(2013, 1, 14, 16, 30), 'NYCMU5078A', 6.0, 1433.0, 99.79000091552734, 99.93000030517578)\n"
       ]
      }
     ],
     "prompt_number": 1
    },
    {
     "cell_type": "code",
     "collapsed": false,
     "input": [
      "listTable =['wms_kpi.dbo.test', 'wms_kpi.dbo.carriera0830', 'wms_kpi.dbo.carriera1130', \\\n",
      "            'wms_kpi.dbo.carriera1630','wms_kpi.dbo.carriera2330','wms_kpi.dbo.carrierb0830','wms_kpi.dbo.carrierb1130','wms_kpi.dbo.carriera1630', \\\n",
      "            'wms_kpi.dbo.carrierb2330']\n",
      "#We need to sort the results based on cell name. \n",
      "str = 'select * from ' + listTable[2]\n",
      "cursor.execute(str)\n",
      "carrier0830 = cursor.fetchmany(3)\n",
      "print carrier0830, \"\\n\\n\"\n",
      "carrier0830.sort()\n",
      "print carrier0830\n",
      "\n",
      "if False:\n",
      " for row in range(len(listTable)):\n",
      "    print row\n",
      "    str =listTable[row]\n",
      "    print  str\n",
      "    str = 'select * from ' + listTable[row]\n",
      "    print str\n",
      "    cursor.execute(str)\n",
      "    rows = cursor.fetchmany(2)\n",
      "    print rows, \"\\n\"\n",
      " \n"
     ],
     "language": "python",
     "metadata": {},
     "outputs": [
      {
       "output_type": "stream",
       "stream": "stdout",
       "text": [
        "[(datetime.datetime(2013, 5, 2, 11, 30), 'NYCMU2441A', 13.0, 1285.0, 99.37999725341797, 99.91999816894531), (datetime.datetime(2013, 5, 2, 11, 30), 'NYNYU1141A', 2.0, 48.0, 100.0, 100.0), (datetime.datetime(2013, 5, 2, 11, 30), 'NYSCU1006A', 5.0, 449.0, 99.79000091552734, 100.0)] \n",
        "\n",
        "\n",
        "[(datetime.datetime(2013, 5, 2, 11, 30), 'NYCMU2441A', 13.0, 1285.0, 99.37999725341797, 99.91999816894531), (datetime.datetime(2013, 5, 2, 11, 30), 'NYNYU1141A', 2.0, 48.0, 100.0, 100.0), (datetime.datetime(2013, 5, 2, 11, 30), 'NYSCU1006A', 5.0, 449.0, 99.79000091552734, 100.0)]\n"
       ]
      }
     ],
     "prompt_number": 47
    },
    {
     "cell_type": "code",
     "collapsed": false,
     "input": [
      "listTable =['wms_kpi.dbo.test', 'wms_kpi.dbo.carriera0830', 'wms_kpi.dbo.carriera1130', \\\n",
      "            'wms_kpi.dbo.carriera1630','wms_kpi.dbo.carriera2330','wms_kpi.dbo.carrierb0830','wms_kpi.dbo.carrierb1130','wms_kpi.dbo.carriera1630', \\\n",
      "            'wms_kpi.dbo.carrierb2330']\n",
      "#We need to sort the results based on cell name. \n",
      "#Add some sorting components\n",
      "from operator import itemgetter, attrgetter\n",
      "\n",
      "str = 'select * from ' + listTable[1]\n",
      "carrier0830=carrier1130=tt=[]\n",
      "print str\n",
      "cursor.execute(str)\n",
      "print 'This is an example of taking data from the db one row at time \\\n",
      "then printing' \n",
      "for row in range(3):\n",
      "    temp = cursor.fetchone()\n",
      "    #Initially carrier1130 is empty but we add each record on for every iteration.\n",
      "    carrier1130.append(temp)\n",
      "    print row, temp[1], temp[2], temp[3]\n",
      "print \"\\n\\n\"\n",
      "#Lets use fetchall to be more efficient and then step through\n",
      "#I wonder how we move the cursor back to the first record?\n",
      "temp = cursor.fetchall()\n",
      "for row in range(4, 6):\n",
      "    print row, temp[1],temp[2]\n",
      "    \n",
      "print 'First column is date, then cell,CSRRC, PSRRC'\n",
      "tt=sorted(carrier1130, key=itemgetter(3),reverse=False)\n",
      "for row in range(len(tt)):\n",
      " print tt[row][1],\"\\n\"\n",
      "\n",
      "#At this point I really should create a dictionary where \n",
      "# mydata = {'PSRRC:tt[row][1],'CSRRC':tt[row][2]}\n",
      "carrier = {}\n",
      "for row in range(3):\n",
      "    tempPS= tt[row][3]\n",
      "    carrier['PSRRC']= [tempPS]\n",
      "    carrier['CSRRC']= tt[row][2]\n",
      "    carrier['cell']= tt[row][1]\n",
      "    #,'CSRRC':temp[row][2]}\n",
      "    print carrier['PSRRC'], carrier['cell']\n"
     ],
     "language": "python",
     "metadata": {},
     "outputs": [
      {
       "output_type": "stream",
       "stream": "stdout",
       "text": [
        "select * from wms_kpi.dbo.carriera0830\n",
        "This is an example of taking data from the db one row at time then printing"
       ]
      },
      {
       "output_type": "stream",
       "stream": "stdout",
       "text": [
        "\n",
        "0 NYCMU0347A 5.0 432.0\n",
        "1 NYCMU1665A 1.0 55.0\n",
        "2 NYFCU1224A 7.0 382.0\n",
        "\n",
        "\n",
        "\n",
        "4"
       ]
      },
      {
       "output_type": "stream",
       "stream": "stdout",
       "text": [
        " (datetime.datetime(2013, 5, 1, 8, 30), 'NYNYU2046A', 6.0, 245.0, 99.62999725341797, 100.0) (datetime.datetime(2013, 5, 1, 8, 30), 'NYNYU2165A', 10.0, 549.0, 100.0, 99.81999969482422)\n",
        "5 (datetime.datetime(2013, 5, 1, 8, 30), 'NYNYU2046A', 6.0, 245.0, 99.62999725341797, 100.0) (datetime.datetime(2013, 5, 1, 8, 30), 'NYNYU2165A', 10.0, 549.0, 100.0, 99.81999969482422)\n",
        "First column is date, then cell,CSRRC, PSRRC\n",
        "NYCMU1665A \n",
        "\n",
        "NYFCU1224A \n",
        "\n",
        "NYCMU0347A \n",
        "\n",
        "[55.0] NYCMU1665A\n",
        "[382.0] NYFCU1224A\n",
        "[432.0] NYCMU0347A\n"
       ]
      }
     ],
     "prompt_number": 160
    },
    {
     "cell_type": "code",
     "collapsed": false,
     "input": [
      "listTable =['wms_kpi.dbo.test', 'wms_kpi.dbo.carriera0830', 'wms_kpi.dbo.carriera1130', \\\n",
      "            'wms_kpi.dbo.carriera1630','wms_kpi.dbo.carriera2330','wms_kpi.dbo.carrierb0830','wms_kpi.dbo.carrierb1130','wms_kpi.dbo.carriera1630', \\\n",
      "            'wms_kpi.dbo.carrierb2330']\n",
      "#We need to sort the results based on cell name. \n",
      "#Add some sorting components\n",
      "from operator import itemgetter, attrgetter\n",
      "\n",
      "str = 'select * from ' + listTable[1]\n",
      "carrier0830=carrier1130=tt=[]\n",
      "print str\n",
      "cursor.execute(str)\n",
      "for row in range(3):\n",
      "    temp = cursor.fetchone()\n",
      "    #Initially carrier1130 is empty but we add each record on for every iteration.\n",
      "    carrier1130.append(temp)\n",
      "    print row, temp[1], temp[2], temp[3]\n",
      "print \"\\n\" + 'Lets attempt to sort a few'\n",
      "#Lets use fetchall to be more efficient and then step through\n",
      "#I wonder how we move the cursor back to the first record?\n",
      "temp = cursor.fetchall()\n",
      "tt=sorted(temp, key=itemgetter(1),reverse=False)\n",
      "#Print Before Sorting\n",
      "print \"Before sorting\"\n",
      "for row in range(4, 12):\n",
      "    print row, temp[row][1], tt[row][1]\n",
      "print \"After Sorting\"\n",
      "temp.sort(key=itemgetter(1))\n",
      "for row in range(4, 12):\n",
      "    print row, temp[row][1], tt[row][1], tt[row][3]\n",
      "print 'Length of test Database ',len(tt)"
     ],
     "language": "python",
     "metadata": {},
     "outputs": [
      {
       "output_type": "stream",
       "stream": "stdout",
       "text": [
        "select * from wms_kpi.dbo.carriera0830\n",
        "0"
       ]
      },
      {
       "output_type": "stream",
       "stream": "stdout",
       "text": [
        " NYCMU0347A 5.0 432.0\n",
        "1 NYCMU1665A 1.0 55.0\n",
        "2 NYFCU1224A 7.0 382.0\n",
        "\n",
        "Lets attempt to sort a few\n",
        "Before sorting"
       ]
      },
      {
       "output_type": "stream",
       "stream": "stdout",
       "text": [
        "\n",
        "4 NYNYU2234A NYCMU0347A\n",
        "5 NYSCU0353A NYCMU0347A\n",
        "6 NYSCU0713A NYCMU0347A\n",
        "7 NYSCU1312A NYCMU0347A\n",
        "8 NYTCU4162A NYCMU0347A\n",
        "9 NYCMU1094A NYCMU0347A\n",
        "10 NYCMU1221A NYCMU0347A\n",
        "11 NYFCU1224A NYCMU0347A\n",
        "After Sorting\n",
        "4 NYCMU0347A NYCMU0347A 391.0\n",
        "5 NYCMU0347A NYCMU0347A 353.0\n",
        "6 NYCMU0347A NYCMU0347A 105.0\n",
        "7 NYCMU0347A NYCMU0347A 377.0\n",
        "8 NYCMU0347A NYCMU0347A 436.0\n",
        "9 NYCMU0347A NYCMU0347A 411.0\n",
        "10 NYCMU0347A NYCMU0347A 318.0\n",
        "11 NYCMU0347A NYCMU0347A 343.0\n",
        "Length of test Database  19983\n"
       ]
      }
     ],
     "prompt_number": 288
    },
    {
     "cell_type": "code",
     "collapsed": false,
     "input": [
      "import datetime\n",
      "import pyodbc\n",
      "from operator import itemgetter, attrgetter\n",
      "\n",
      "constr =r'DSN=sqlserverdatasource;DRIVER={SQL Server}; DATABASE=wms_kpi;\\\n",
      "uid=slbryson; Pwd=janfeb222!;'\n",
      "\n",
      "\n",
      "cnxn = pyodbc.connect(constr)\n",
      "cursor = cnxn.cursor()\n",
      "#Location Database  Don't forget initial done at the first cell\n",
      "str = 'select * from ' + 'wms_kpi.dbo.location'\n",
      "\n",
      "locdb =locN=[]\n",
      "\n",
      "print str\n",
      "#Example of taking out five entries and looking at the length.  If you do this and subsequently\n",
      "#fetchall you will miss the n values you previously fetched.  Dirty way to start over is to recall the connection\n",
      "#string.\n",
      "##############\n",
      "#cursor.execute(str)\n",
      "#locdb = cursor.fetchmany(5)\n",
      "#print len(locdb), locdb\n",
      "#print cursor.description\n",
      "\n",
      "cursor.execute(str)\n",
      " \n",
      "locdb = cursor.fetchall()\n",
      "locdb.sort(key=itemgetter(1))\n",
      "for row in range(4,8):\n",
      "    print locdb[row][4]\n",
      "print len(locdb),\"\\n\"\n",
      "#Attemp a DB selector, this will select only cell names that match a certain pattern\n",
      "locN = cursor.execute(\"select * from wms_kpi.dbo.location where name like 'N%'\").fetchall()\n",
      "locN.sort(key=itemgetter(4))\n",
      "#From the previous python cell the output of the selector\n",
      "for row in range(3):\n",
      "    print locN[row][4]\n",
      "print len(locN) # length of the Selector"
     ],
     "language": "python",
     "metadata": {},
     "outputs": [
      {
       "output_type": "stream",
       "stream": "stdout",
       "text": [
        "select * from wms_kpi.dbo.location\n",
        "NYCMU9521C"
       ]
      },
      {
       "output_type": "stream",
       "stream": "stdout",
       "text": [
        "\n",
        "NYCMU9521Z\n",
        "NYCMU9521B\n",
        "NYCMU9521Y\n",
        "1755 \n",
        "\n",
        "NCOWU0001A"
       ]
      },
      {
       "output_type": "stream",
       "stream": "stdout",
       "text": [
        "\n",
        "NCOWU0020A\n",
        "NYCEU1013D\n",
        "1755\n"
       ]
      }
     ],
     "prompt_number": 4
    },
    {
     "cell_type": "code",
     "collapsed": false,
     "input": [
      "# find match of locations from RRC data and location data save index\n",
      "#import numpy as my_mat\n",
      "\n",
      "for out_row in range(len(tt)):\n",
      "    for in_row in range(len(locN)):\n",
      "         if tt[out_row][1] == locN[in_row][4]:\n",
      "            my_mat=tt[out_row][3]\n",
      "            \n",
      "             \n",
      "#Try some Matlab functions            "
     ],
     "language": "python",
     "metadata": {},
     "outputs": [],
     "prompt_number": 413
    },
    {
     "cell_type": "code",
     "collapsed": false,
     "input": [
      " \n",
      "print tt[5][3], tt[6][3]\n",
      "\n",
      "import numpy as np\n",
      "print np.mean(my_mat,axis=0)\n",
      " \n",
      " "
     ],
     "language": "python",
     "metadata": {},
     "outputs": [
      {
       "ename": "IndexError",
       "evalue": "tuple index out of range",
       "output_type": "pyerr",
       "traceback": [
        "\u001b[1;31m---------------------------------------------------------------------------\u001b[0m\n\u001b[1;31mIndexError\u001b[0m                                Traceback (most recent call last)",
        "\u001b[1;32m<ipython-input-415-ab85e236f885>\u001b[0m in \u001b[0;36m<module>\u001b[1;34m()\u001b[0m\n\u001b[0;32m      3\u001b[0m \u001b[1;33m\u001b[0m\u001b[0m\n\u001b[0;32m      4\u001b[0m \u001b[1;32mimport\u001b[0m \u001b[0mnumpy\u001b[0m \u001b[1;32mas\u001b[0m \u001b[0mnp\u001b[0m\u001b[1;33m\u001b[0m\u001b[0m\n\u001b[1;32m----> 5\u001b[1;33m \u001b[1;32mprint\u001b[0m \u001b[0mnp\u001b[0m\u001b[1;33m.\u001b[0m\u001b[0mmean\u001b[0m\u001b[1;33m(\u001b[0m\u001b[0mmy_mat\u001b[0m\u001b[1;33m,\u001b[0m\u001b[0maxis\u001b[0m\u001b[1;33m=\u001b[0m\u001b[1;36m0\u001b[0m\u001b[1;33m)\u001b[0m\u001b[1;33m\u001b[0m\u001b[0m\n\u001b[0m\u001b[0;32m      6\u001b[0m \u001b[1;33m\u001b[0m\u001b[0m\n\u001b[0;32m      7\u001b[0m \u001b[1;33m\u001b[0m\u001b[0m\n",
        "\u001b[1;32m/home/slbryson/anaconda/lib/python2.7/site-packages/numpy/core/fromnumeric.pyc\u001b[0m in \u001b[0;36mmean\u001b[1;34m(a, axis, dtype, out, keepdims)\u001b[0m\n\u001b[0;32m   2714\u001b[0m \u001b[1;33m\u001b[0m\u001b[0m\n\u001b[0;32m   2715\u001b[0m     return _methods._mean(a, axis=axis, dtype=dtype,\n\u001b[1;32m-> 2716\u001b[1;33m                             out=out, keepdims=keepdims)\n\u001b[0m\u001b[0;32m   2717\u001b[0m \u001b[1;33m\u001b[0m\u001b[0m\n\u001b[0;32m   2718\u001b[0m \u001b[1;32mdef\u001b[0m \u001b[0mstd\u001b[0m\u001b[1;33m(\u001b[0m\u001b[0ma\u001b[0m\u001b[1;33m,\u001b[0m \u001b[0maxis\u001b[0m\u001b[1;33m=\u001b[0m\u001b[0mNone\u001b[0m\u001b[1;33m,\u001b[0m \u001b[0mdtype\u001b[0m\u001b[1;33m=\u001b[0m\u001b[0mNone\u001b[0m\u001b[1;33m,\u001b[0m \u001b[0mout\u001b[0m\u001b[1;33m=\u001b[0m\u001b[0mNone\u001b[0m\u001b[1;33m,\u001b[0m \u001b[0mddof\u001b[0m\u001b[1;33m=\u001b[0m\u001b[1;36m0\u001b[0m\u001b[1;33m,\u001b[0m \u001b[0mkeepdims\u001b[0m\u001b[1;33m=\u001b[0m\u001b[0mFalse\u001b[0m\u001b[1;33m)\u001b[0m\u001b[1;33m:\u001b[0m\u001b[1;33m\u001b[0m\u001b[0m\n",
        "\u001b[1;32m/home/slbryson/anaconda/lib/python2.7/site-packages/numpy/core/_methods.pyc\u001b[0m in \u001b[0;36m_mean\u001b[1;34m(a, axis, dtype, out, keepdims)\u001b[0m\n\u001b[0;32m     50\u001b[0m     \u001b[0marr\u001b[0m \u001b[1;33m=\u001b[0m \u001b[0masanyarray\u001b[0m\u001b[1;33m(\u001b[0m\u001b[0ma\u001b[0m\u001b[1;33m)\u001b[0m\u001b[1;33m\u001b[0m\u001b[0m\n\u001b[0;32m     51\u001b[0m \u001b[1;33m\u001b[0m\u001b[0m\n\u001b[1;32m---> 52\u001b[1;33m     \u001b[0mrcount\u001b[0m \u001b[1;33m=\u001b[0m \u001b[0m_count_reduce_items\u001b[0m\u001b[1;33m(\u001b[0m\u001b[0marr\u001b[0m\u001b[1;33m,\u001b[0m \u001b[0maxis\u001b[0m\u001b[1;33m)\u001b[0m\u001b[1;33m\u001b[0m\u001b[0m\n\u001b[0m\u001b[0;32m     53\u001b[0m     \u001b[1;31m# Make this warning show up first\u001b[0m\u001b[1;33m\u001b[0m\u001b[1;33m\u001b[0m\u001b[0m\n\u001b[0;32m     54\u001b[0m     \u001b[1;32mif\u001b[0m \u001b[0mrcount\u001b[0m \u001b[1;33m==\u001b[0m \u001b[1;36m0\u001b[0m\u001b[1;33m:\u001b[0m\u001b[1;33m\u001b[0m\u001b[0m\n",
        "\u001b[1;32m/home/slbryson/anaconda/lib/python2.7/site-packages/numpy/core/_methods.pyc\u001b[0m in \u001b[0;36m_count_reduce_items\u001b[1;34m(arr, axis)\u001b[0m\n\u001b[0;32m     44\u001b[0m     \u001b[0mitems\u001b[0m \u001b[1;33m=\u001b[0m \u001b[1;36m1\u001b[0m\u001b[1;33m\u001b[0m\u001b[0m\n\u001b[0;32m     45\u001b[0m     \u001b[1;32mfor\u001b[0m \u001b[0max\u001b[0m \u001b[1;32min\u001b[0m \u001b[0maxis\u001b[0m\u001b[1;33m:\u001b[0m\u001b[1;33m\u001b[0m\u001b[0m\n\u001b[1;32m---> 46\u001b[1;33m         \u001b[0mitems\u001b[0m \u001b[1;33m*=\u001b[0m \u001b[0marr\u001b[0m\u001b[1;33m.\u001b[0m\u001b[0mshape\u001b[0m\u001b[1;33m[\u001b[0m\u001b[0max\u001b[0m\u001b[1;33m]\u001b[0m\u001b[1;33m\u001b[0m\u001b[0m\n\u001b[0m\u001b[0;32m     47\u001b[0m     \u001b[1;32mreturn\u001b[0m \u001b[0mitems\u001b[0m\u001b[1;33m\u001b[0m\u001b[0m\n\u001b[0;32m     48\u001b[0m \u001b[1;33m\u001b[0m\u001b[0m\n",
        "\u001b[1;31mIndexError\u001b[0m: tuple index out of range"
       ]
      },
      {
       "output_type": "stream",
       "stream": "stdout",
       "text": [
        "353.0 105.0\n"
       ]
      }
     ],
     "prompt_number": 415
    },
    {
     "cell_type": "code",
     "collapsed": false,
     "input": [
      "import pyodbc\n",
      " \n",
      "dsn = 'sqlserverdatasource'\n",
      "user = 'slbryson'\n",
      "password = 'janfeb222!'\n",
      "database = 'wms_kpi'\n",
      " \n",
      "con_string = 'DSN=%s;UID=%s;PWD=%s;DATABASE=%s;' % (dsn, user, password, database)\n",
      "cnxn = pyodbc.connect(con_string)"
     ],
     "language": "python",
     "metadata": {},
     "outputs": [],
     "prompt_number": 318
    },
    {
     "cell_type": "code",
     "collapsed": false,
     "input": [
      "import sys\n",
      "import adodbapi\n",
      "\n",
      "#sys.path"
     ],
     "language": "python",
     "metadata": {},
     "outputs": [],
     "prompt_number": 26
    },
    {
     "cell_type": "code",
     "collapsed": false,
     "input": [],
     "language": "python",
     "metadata": {},
     "outputs": []
    }
   ],
   "metadata": {}
  }
 ]
}