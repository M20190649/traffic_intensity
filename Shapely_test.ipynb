{
 "metadata": {
  "name": ""
 },
 "nbformat": 3,
 "nbformat_minor": 0,
 "worksheets": [
  {
   "cells": [
    {
     "cell_type": "heading",
     "level": 2,
     "metadata": {},
     "source": [
      "Idea of this Notebook is to get acclimated with printing coordinates on base maps"
     ]
    },
    {
     "cell_type": "code",
     "collapsed": false,
     "input": [
      "from matplotlib import pyplot\n",
      "from shapely.geometry import LineString\n",
      "#from matplotlib.figures import SIZE\n",
      "\n",
      "BLUE =   '#6699cc'\n",
      "YELLOW = '#ffcc33'\n",
      "GREEN =  '#339933'\n",
      "GRAY =   '#999999'\n",
      "\n",
      "def plot_coords(ax, ob):\n",
      "    x, y = ob.xy\n",
      "    ax.plot(x, y, 'o', color=GRAY, zorder=1)\n",
      "\n",
      "fig = pyplot.figure(1, figsize=(10,4), dpi=90) #1, figsize=(10, 4), dpi=180)\n",
      "\n",
      "a = LineString([(0, 0), (1, 1), (1,2), (2,2)])\n",
      "b = LineString([(0, 0), (1, 1), (2,1), (2,2)])\n",
      "\n",
      "# 1: disconnected multilinestring\n",
      "ax = fig.add_subplot(121)\n",
      "\n",
      "plot_coords(ax, a)\n",
      "plot_coords(ax, b)\n",
      "\n",
      "x, y = a.xy\n",
      "ax.plot(x, y, color=YELLOW, alpha=0.5, linewidth=3, solid_capstyle='round', zorder=2)\n",
      "\n",
      "x, y = b.xy\n",
      "ax.plot(x, y, color=GREEN, alpha=0.5, linewidth=3, solid_capstyle='round', zorder=2)\n",
      "\n",
      "ax.set_title('a) lines')\n",
      "\n",
      "xrange = [-1, 3]\n",
      "yrange = [-1, 3]\n",
      "ax.set_xlim(*xrange)\n",
      "ax.set_xticks(range(*xrange) + [xrange[-1]])\n",
      "ax.set_ylim(*yrange)\n",
      "ax.set_yticks(range(*yrange) + [yrange[-1]])\n",
      "ax.set_aspect(1)\n",
      "\n",
      "#2: invalid self-touching ring\n",
      "ax = fig.add_subplot(122)\n",
      "\n",
      "x, y = a.xy\n",
      "ax.plot(x, y, color=GRAY, alpha=0.7, linewidth=1, solid_capstyle='round', zorder=1)\n",
      "x, y = b.xy\n",
      "ax.plot(x, y, color=GRAY, alpha=0.7, linewidth=1, solid_capstyle='round', zorder=1)\n",
      "\n",
      "for ob in a.intersection(b):\n",
      "    x, y = ob.xy\n",
      "    if len(x) == 1:\n",
      "        ax.plot(x, y, 'o', color=BLUE, zorder=2)\n",
      "    else:\n",
      "        ax.plot(x, y, color=BLUE, alpha=0.7, linewidth=3, solid_capstyle='round', zorder=2)\n",
      "\n",
      "ax.set_title('b) collection')\n",
      "\n",
      "xrange = [-1, 3]\n",
      "yrange = [-1, 3]\n",
      "ax.set_xlim(*xrange)\n",
      "ax.set_xticks(range(*xrange) + [xrange[-1]])\n",
      "ax.set_ylim(*yrange)\n",
      "ax.set_yticks(range(*yrange) + [yrange[-1]])\n",
      "ax.set_aspect(1)\n",
      "\n",
      "pyplot.show()\n",
      "\n"
     ],
     "language": "python",
     "metadata": {},
     "outputs": [],
     "prompt_number": "*"
    },
    {
     "cell_type": "code",
     "collapsed": false,
     "input": [],
     "language": "python",
     "metadata": {},
     "outputs": []
    }
   ],
   "metadata": {}
  }
 ]
}