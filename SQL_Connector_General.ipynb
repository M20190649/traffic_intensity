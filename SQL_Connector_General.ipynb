{
 "metadata": {
  "name": ""
 },
 "nbformat": 3,
 "nbformat_minor": 0,
 "worksheets": [
  {
   "cells": [
    {
     "cell_type": "code",
     "collapsed": false,
     "input": [
      "import datetime\n",
      "import pyodbc\n",
      "from operator import itemgetter, attrgetter\n",
      "\n",
      "constr =r'DSN=sqlserverdatasource;DRIVER={SQL Server}; DATABASE=wms_kpi;\\\n",
      "uid=slbryson; Pwd=janfeb222!;'\n",
      "constr =r'DSN=sqlserverdatasource;DRIVER={FreeTDS}; DATABASE=wms_kpi;\\\n",
      "uid=slbryson; Pwd=janfeb222!;'\n",
      "\n",
      "\n",
      "cnxn = pyodbc.connect(constr)\n",
      "cursor = cnxn.cursor()\n",
      "#Location Database  Don't forget initial done at the first cell\n",
      "str = 'select * from ' + 'wms_kpi.dbo.location'\n",
      "\n",
      "locdb =locN=[]\n",
      "\n",
      "print str\n",
      "\n",
      "\n",
      "cursor.execute(str)\n",
      " \n",
      "locdb = cursor.fetchall()\n",
      "locdb.sort(key=itemgetter(1))\n",
      "for row in range(4,8):\n",
      "    print locdb[row][4]\n",
      "print len(locdb),\"\\n\"\n",
      "#Attemp a DB selector, this will select only cell names that match a certain pattern\n",
      "locN = cursor.execute(\"select * from wms_kpi.dbo.location where name like 'N%'\").fetchall()\n",
      "locN.sort(key=itemgetter(4))\n",
      "#From the previous python cell the output of the selector\n",
      "for row in range(3):\n",
      "    print locN[row][4]\n",
      "print len(locN) # length of the Selector\n",
      "cnxn.close()"
     ],
     "language": "python",
     "metadata": {},
     "outputs": [
      {
       "output_type": "stream",
       "stream": "stdout",
       "text": [
        "select * from wms_kpi.dbo.location\n",
        "NYCMU9521C"
       ]
      },
      {
       "output_type": "stream",
       "stream": "stdout",
       "text": [
        "\n",
        "NYCMU9521Z\n",
        "NYCMU9521B\n",
        "NYCMU9521Y\n",
        "1755 \n",
        "\n",
        "NCOWU0001A"
       ]
      },
      {
       "output_type": "stream",
       "stream": "stdout",
       "text": [
        "\n",
        "NCOWU0020A\n",
        "NYCEU1013D\n",
        "1755\n"
       ]
      }
     ],
     "prompt_number": 26
    },
    {
     "cell_type": "code",
     "collapsed": false,
     "input": [
      "import datetime\n",
      "import pyodbc\n",
      "from operator import itemgetter, attrgetter\n",
      "\n",
      "constr =r'DSN=sqlserverdatasource;DRIVER={SQL Server}; DATABASE=wms_kpi;\\\n",
      "uid=slbryson; Pwd=marapr222!;'\n",
      "\n",
      "\n",
      "\n",
      "cnxn = pyodbc.connect(constr)\n",
      "cnxn2 = pyodbc.connect(constr)\n",
      "\n",
      "cursor = cnxn.cursor() \n",
      "cursor2 = cnxn2.cursor()\n",
      "#cursor2.execute(\"DROP TABLE wms_kpi.dbo.write_example\")\n",
      "\n",
      "for rows in cursor.tables():\n",
      "    if rows.table_name == \"skyhook_NY\":\n",
      "        drop = \"DROP TABLE skyhook_NY\"\n",
      "        print rows.table_name, \"\\n\",drop, \"IT DROPPPED!!!!\"\n",
      "        cursor2.execute(drop)\n",
      "        \n",
      "\n",
      "cnxn2.commit()\n",
      "cursor.execute(\"\"\"\n",
      "        CREATE TABLE dbo.skyhook_NY ( \n",
      "        date varchar(80),\n",
      "        tileID varchar(80),\n",
      "        hour int,\n",
      "        count int,\n",
      "        avg_lat float,\n",
      "        avg_long float,\n",
      "        min_lat float,\n",
      "        min_long float,\n",
      "        max_lat float,\n",
      "        max_long float)\n",
      "        \"\"\")\n",
      "cnxn.commit()\n"
     ],
     "language": "python",
     "metadata": {},
     "outputs": [],
     "prompt_number": 1
    },
    {
     "cell_type": "code",
     "collapsed": false,
     "input": [
      "for rows in cursor.tables():\n",
      "    if rows.table_name == 'skyhook':\n",
      "        print rows.table_name\n",
      "        \n",
      "cursor.execute(\"INSERT INTO skyhook VALUES ('','BD4001', -73.88433, 41.4444, 41.033,6,7,8,9,10)\")\n",
      "cnxn.commit()\n",
      "# Unused but this should work to be able to use more general SQL statements.\n",
      "str2 = \"\"\"SELECT *\n",
      "INTO dbo.write_example\n",
      " FROM [dbo].[kpi_series] \n",
      " where datename(hour,startDateTime)=7 \n",
      " and\n",
      " datename(minute,startDateTime) =0\n",
      " and\n",
      " startDateTime between '2013-03-20 00:00:00' and '2013-04-20 00:00:00'\n",
      " and\n",
      " totPSRRCAtts > 1500\n",
      " and\n",
      " cell like 'N%' \"\"\"\n",
      "\n",
      "#cursor.execute(str2)\n",
      "#cnxn.commit()"
     ],
     "language": "python",
     "metadata": {},
     "outputs": [
      {
       "output_type": "stream",
       "stream": "stdout",
       "text": [
        "skyhook\n"
       ]
      }
     ],
     "prompt_number": 3
    },
    {
     "cell_type": "code",
     "collapsed": false,
     "input": [
      "str3 = 'select * FROM skyhook'\n",
      "cursor.execute(str3)\n",
      "print cursor.fetchall()\n"
     ],
     "language": "python",
     "metadata": {},
     "outputs": [
      {
       "output_type": "stream",
       "stream": "stdout",
       "text": [
        "[(' ', 'BD4001', -73, 41, 41.033, 6.0, 7.0, 8.0, 9.0, 10.0)]\n"
       ]
      }
     ],
     "prompt_number": 7
    },
    {
     "cell_type": "code",
     "collapsed": false,
     "input": [
      "\n",
      "cnxn.close()\n",
      "cnxn2.close()"
     ],
     "language": "python",
     "metadata": {},
     "outputs": [
      {
       "ename": "NameError",
       "evalue": "name 'cnxn' is not defined",
       "output_type": "pyerr",
       "traceback": [
        "\u001b[1;31m---------------------------------------------------------------------------\u001b[0m\n\u001b[1;31mNameError\u001b[0m                                 Traceback (most recent call last)",
        "\u001b[1;32m<ipython-input-1-a6276e389b06>\u001b[0m in \u001b[0;36m<module>\u001b[1;34m()\u001b[0m\n\u001b[0;32m      1\u001b[0m \u001b[1;33m\u001b[0m\u001b[0m\n\u001b[1;32m----> 2\u001b[1;33m \u001b[0mcnxn\u001b[0m\u001b[1;33m.\u001b[0m\u001b[0mclose\u001b[0m\u001b[1;33m(\u001b[0m\u001b[1;33m)\u001b[0m\u001b[1;33m\u001b[0m\u001b[0m\n\u001b[0m\u001b[0;32m      3\u001b[0m \u001b[0mcnxn2\u001b[0m\u001b[1;33m.\u001b[0m\u001b[0mclose\u001b[0m\u001b[1;33m(\u001b[0m\u001b[1;33m)\u001b[0m\u001b[1;33m\u001b[0m\u001b[0m\n",
        "\u001b[1;31mNameError\u001b[0m: name 'cnxn' is not defined"
       ]
      }
     ],
     "prompt_number": 1
    },
    {
     "cell_type": "code",
     "collapsed": false,
     "input": [],
     "language": "python",
     "metadata": {},
     "outputs": []
    }
   ],
   "metadata": {}
  }
 ]
}