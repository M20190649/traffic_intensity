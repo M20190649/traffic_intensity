{
 "metadata": {
  "name": ""
 },
 "nbformat": 3,
 "nbformat_minor": 0,
 "worksheets": [
  {
   "cells": [
    {
     "cell_type": "code",
     "collapsed": false,
     "input": [
      "#Open Dbase Connection\n",
      "import datetime\n",
      "import pyodbc\n",
      "import os\n",
      "import csv\n",
      "from operator import itemgetter, attrgetter\n",
      "\n",
      "constr =r'DSN=sqlserverdatasource;DRIVER={SQL Server}; DATABASE=wms_kpi;\\\n",
      "uid=slbryson; Pwd=janfeb222!;'\n",
      "#constr =r'DSN=sqlserverdatasource;DRIVER={FreeTDS}; DATABASE=wms_kpi;\\\n",
      "#uid=slbryson; Pwd=janfeb222!;'\n",
      "\n",
      "\n",
      "cnxn = pyodbc.connect(constr)\n",
      "cursor = cnxn.cursor() "
     ],
     "language": "python",
     "metadata": {},
     "outputs": [],
     "prompt_number": 6
    },
    {
     "cell_type": "code",
     "collapsed": false,
     "input": [
      "#Start Loop through Files\n",
      "\n",
      "\n",
      "in_dir = r\"C:\\Projects\\Python_Projects\\simcity\\data\\skyhook-data\"\n",
      "\n",
      "for path, subdirs, files in os.walk(in_dir):\n",
      " for filename in files:\n",
      "  f = os.path.join(path,filename)\n",
      "  print filename, '\\t', f"
     ],
     "language": "python",
     "metadata": {},
     "outputs": [],
     "prompt_number": 7
    },
    {
     "cell_type": "code",
     "collapsed": false,
     "input": [
      "# Open/Read Files"
     ],
     "language": "python",
     "metadata": {},
     "outputs": [],
     "prompt_number": 3
    },
    {
     "cell_type": "code",
     "collapsed": false,
     "input": [
      "# Loop\n",
      "#Close File"
     ],
     "language": "python",
     "metadata": {},
     "outputs": [],
     "prompt_number": 4
    },
    {
     "cell_type": "code",
     "collapsed": false,
     "input": [
      "\n",
      "#Close dbase\n",
      "cnx.close()"
     ],
     "language": "python",
     "metadata": {},
     "outputs": []
    }
   ],
   "metadata": {}
  }
 ]
}