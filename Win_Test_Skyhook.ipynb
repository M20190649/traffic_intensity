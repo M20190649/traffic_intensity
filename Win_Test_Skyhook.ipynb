{
 "metadata": {
  "name": ""
 },
 "nbformat": 3,
 "nbformat_minor": 0,
 "worksheets": [
  {
   "cells": [
    {
     "cell_type": "code",
     "collapsed": false,
     "input": [
      "#load Skyhook_processing.py\n",
      "#This statement was used to initially load the sample file"
     ],
     "language": "python",
     "metadata": {},
     "outputs": [],
     "prompt_number": 16
    },
    {
     "cell_type": "code",
     "collapsed": false,
     "input": [
      "import csv\n",
      "import os\n",
      "from pandas import DataFrame\n",
      "from geopandas import GeoDataFrame\n",
      "from shapely.geometry import box\n",
      "import pyproj\n",
      "import numpy as np\n",
      "# Make all matlib functions accessible at the top level  via M.func()\n",
      "import numpy.matlib as M\n",
      "# Make some matlib functions accessible directly at the top level via,\n",
      "# e.g. rand(3,3)\n",
      "from numpy.matlib import rand, zeros, ones, empty, eye\n",
      "# Define a Hermitian function\n",
      "\n",
      "\n",
      "def hermitian(A, **kwargs):\n",
      "    return np.transpose(A, **kwargs).conj()\n",
      "\n",
      "# Make some shorcuts for transpose,hermitian:\n",
      "#    num.transpose(A) --> T(A)\n",
      "#    hermitian(A) --> H(A)\n",
      "T = np.transpose\n",
      "H = hermitian\n",
      "\n",
      "\n",
      "#in_file = 'C:\\\\Projects\\\\Data\\\\Skyhook\\\\2013-09-01\\\\Skyhook.csv'\n",
      "in_file = 'C:\\\\Projects\\\\Python_Projects\\\\simcity\\\\data\\\\skyhook-data\\\\2013-09-01\\\\Skyhook.csv'\n",
      "#in_file = os.path.normpath(\"C:\\Projects\\Python_Projects\\simcity\\data\\skyhook-data\\2013-09-01\\Skyhook.csv\")\n",
      "in_file = r\"C:\\Projects\\Python_Projects\\simcity\\data\\skyhook-data\\2013-09-01\\Skyhook.csv\"\n",
      "\n",
      "out_file = r\"C:\\Projects\\Python_Projects\\simcity\\source\\traffic-intensity-map\\Skyhook.shp\"\n",
      "#out_file = os.path.normpath(\"C:\\Projects\\Python_Projects\\simcity\\data\\skyhook-data\\2013-09-01\\Skyhook.shp\")\n",
      "print(in_file)\n",
      "print(out_file)\n",
      "\n",
      "def main():\n",
      "# Skyhook data are structured as follows:\n",
      "# Tile ID: a 9 character hexadecimal identifier of the Tile\n",
      "# Hour ID: local time zone adjusted day of the week (0-168, 0 represents from\n",
      "# Midnight to 1AM on Sunday morning)\n",
      "# Tile Requests: activity summary for the Tile at that particular Hour ID (1-n)\n",
      "# Average Latitude: averaged centroid of requests within the TileID for the\n",
      "# given hour as measured in degrees\n",
      "# Average Longitude: averaged centroid of requests within the TileID for the\n",
      "# given hour as measured in degrees\n",
      "# The rest 4 coordinates define the bounding box of the tile.\n",
      "\n",
      "# read data from csv file and store in lists\n",
      "    with open(in_file, 'rb') as csvfile:\n",
      "        r = csv.reader(csvfile, delimiter=',')\n",
      "        # create 9 lists containing the columns of the dataset\n",
      "        date, tileID, hour, count, average_lat, average_long, min_lat, min_long, max_lat, max_long = [\n",
      "        ], [], [], [], [], [], [], [], [], []\n",
      "\n",
      "        for row in r:\n",
      "            date.append('20130901')\n",
      "            tileID.append(row[0])\n",
      "            hour.append(row[1])\n",
      "            count.append(row[2])\n",
      "            min_lat.append(row[5])\n",
      "            min_long.append(row[6])\n",
      "            max_lat.append(row[7])\n",
      "            max_long.append(row[8])\n",
      "            average_long.append(row[3])\n",
      "\t\t\n",
      "    len(hour)\t\n",
      "\n",
      "    # set up coordinate projection suitable for NYC\n",
      "    nyp = pyproj.Proj('+datum=NAD83 +lat_0=40.1666666667 +lat_1=40.6666666667 '\n",
      "           '+lat_2=41.0333333333 +lon_0=-74 +no_defs +proj=lcc +units=us-ft '\n",
      "           '+x_0=300000 +y_0', preserve_units=True)\n",
      "    wgs84 = pyproj.Proj(init='epsg:4326')\n",
      "\n",
      "    x_l, y_b, x_r, y_t = [], [], [], []\n",
      "    # convert the bounding box into geometric coordinates\n",
      "    min_long_array = np.asarray(min_long)\n",
      "    min_long_array = min_long_array.astype(np.float)\n",
      "    min_lat_array = np.asarray(min_lat)\n",
      "    min_lat_array = min_lat_array.astype(np.float)\n",
      "    max_long_array = np.asarray(max_long)\n",
      "    max_long_array = max_long_array.astype(np.float)\n",
      "    max_lat_array = np.asarray(max_lat)\n",
      "    max_lat_array = max_lat_array.astype(np.float)\n",
      "    # create (N,2) arrays where N is the number of points and 2 are the coordinates\n",
      "    # pyproj expects the coordinates as (long, lat)\n",
      "    x_l, y_b = pyproj.transform(wgs84, min_long_array, min_lat_array)\n",
      "    x_r, y_t = pyproj.transform(wgs84, max_long_array, max_lat_array)\n",
      "\n",
      "    # form a point array representing the bounding box\n",
      "    tl = [x_l, y_t]\n",
      "    tr = [x_r, y_t]\n",
      "    br = [x_r, y_b]\n",
      "    bl = [x_l, y_b]\n",
      "    parr = [tl, tr, br, bl, tl]\n",
      "    # Set up shapefile writer and create empty fields\n",
      "    maxStringLength = 50\n",
      "    w.field('name', 'C', maxStringLength)\n",
      "\n",
      "    # Set up shapefile writer and create empty fields\n",
      "    w = box.Writer(box.POLYGON)\n",
      "    w.autoBalance = 1  # ensures gemoetry and attributes match\n",
      "    w.field('X', 'F', 10, 8)\n",
      "    w.field('Y', 'F', 10, 8)\n",
      "    w.field('Date', 'D')\n",
      "    w.field('ID', 'N')\n",
      "\n",
      "    # loop through the data and write the shapefile\n",
      "    for j, name in enumerate(name):\n",
      "        w.poly(parts=parr[j])\n",
      "        w.record(name)\n",
      "\n",
      "    # Save shapefile\n",
      "    w.save(out_file)\n",
      "\n",
      "    data = DataFrame.from_csv('rect.csv')\n",
      "    boxes = [box(row['x_l'], row['y_b'], row['x_r'], row['y_t'])\n",
      "        for key, row in data.iterrows()]\n",
      "    df = GeoDataFrame(boxes, columns=['geometry'], index=data.index)\n",
      "    df.to_file('out.shp', driver='ESRI Shapefile')\n"
     ],
     "language": "python",
     "metadata": {},
     "outputs": [
      {
       "output_type": "stream",
       "stream": "stdout",
       "text": [
        "C:\\Projects\\Python_Projects\\simcity\\data\\skyhook-data\\2013-09-01\\Skyhook.csv\n",
        "C:\\Projects\\Python_Projects\\simcity\\source\\traffic-intensity-map\\Skyhook.shp\n"
       ]
      }
     ],
     "prompt_number": 17
    },
    {
     "cell_type": "raw",
     "metadata": {},
     "source": [
      "if __name__ == '__main__':\n",
      "    main()"
     ]
    },
    {
     "cell_type": "markdown",
     "metadata": {},
     "source": [
      "<b>Based on some of the errors that I've seen in this code fragment I think it needs to be tuned a bit</b>"
     ]
    },
    {
     "cell_type": "raw",
     "metadata": {},
     "source": [
      "To get past the errors I'm going to experiment in this notebook with some variations of reading the data.\n",
      "I've noticed that the indexes for columns go to 9 starting from 0, but there are only 9 columns.  Also, the original program only attempts to read in the bounding box data.\n",
      "I've changed some of the indents to get the with open statement to operate while the file was open.  In the original code either I did something wrong or the indention was wrong throwing a file closed operation error.\n",
      "\n",
      "I also discovered the nice \"r\" function to help with backslashes, but other suggestions are"
     ]
    },
    {
     "cell_type": "code",
     "collapsed": false,
     "input": [
      "import os\n",
      "myfile = os.path.normpath(\"c:\\Projects\\Python_Projects\\simcity\\source\\Skyhook.csv\")\n",
      "print myfile\n",
      "myDir = os.path.dirname(myfile)\n",
      "print myDir"
     ],
     "language": "python",
     "metadata": {},
     "outputs": [
      {
       "output_type": "stream",
       "stream": "stdout",
       "text": [
        "c:\\Projects\\Python_Projects\\simcity\\source\\Skyhook.csv\n",
        "c:\\Projects\\Python_Projects\\simcity\\source\n"
       ]
      }
     ],
     "prompt_number": 18
    },
    {
     "cell_type": "code",
     "collapsed": false,
     "input": [
      "import csv\n",
      "import os\n",
      "import numpy as np\n",
      "\n",
      "\n",
      "\n",
      "# Skyhook data are structured as follows:\n",
      "# Tile ID: a 9 character hexadecimal identifier of the Tile\n",
      "# Hour ID: local time zone adjusted day of the week (0-168, 0 represents from\n",
      "# Midnight to 1AM on Sunday morning)\n",
      "# Tile Requests: activity summary for the Tile at that particular Hour ID (1-n)\n",
      "# Average Latitude: averaged centroid of requests within the TileID for the\n",
      "# given hour as measured in degrees\n",
      "# Average Longitude: averaged centroid of requests within the TileID for the\n",
      "# given hour as measured in degrees\n",
      "# The rest 4 coordinates define the bounding box of the tile.\n",
      "in_file = r\"C:\\Projects\\Python_Projects\\simcity\\data\\skyhook-data\\2013-09-01\\Skyhook.csv\"\n",
      "in_file = r\"C:\\Users\\slbryson\\Documents\\saas\\LA\\LA6\"\n",
      "in_file =\"Skyhook.csv\"\n",
      "out_file = \"Skyhook.shp\"\n",
      "print(in_file)\n",
      "print(out_file)\n",
      "\n",
      "with open(in_file, 'rb') as csvfile:\n",
      "    r = csv.reader(csvfile, delimiter=',')\n",
      "    # create 9 lists containing the columns of the dataset\n",
      "    date, tileID, hour, count, average_lat, average_long, min_lat, min_long, max_lat, max_long = [\n",
      "    ], [], [], [], [], [], [], [], [], []\n",
      "\n",
      "    for row in r:\n",
      "        date.append('20130901')\n",
      "        tileID.append(row[0])\n",
      "        hour.append(row[1])\n",
      "        count.append(row[2])\n",
      "        average_lat.append(row[3])\n",
      "        min_lat.append(row[5])\n",
      "        min_long.append(row[6])\n",
      "        max_lat.append(row[7])\n",
      "        max_long.append(row[8])\n",
      "     \n",
      "\t\t\n",
      "print (\"{0} {1}\".format (len(hour),\"number of rows in this file\\n\"))\n",
      "print min_lat[0], min_long[0], average_lat[0]\n",
      "csvfile.close()\n"
     ],
     "language": "python",
     "metadata": {},
     "outputs": [
      {
       "ename": "NameError",
       "evalue": "name 'out_file' is not defined",
       "output_type": "pyerr",
       "traceback": [
        "\u001b[1;31m---------------------------------------------------------------------------\u001b[0m\n\u001b[1;31mNameError\u001b[0m                                 Traceback (most recent call last)",
        "\u001b[1;32m<ipython-input-3-9e4b5901f6f1>\u001b[0m in \u001b[0;36m<module>\u001b[1;34m()\u001b[0m\n\u001b[0;32m     18\u001b[0m \u001b[0min_file\u001b[0m \u001b[1;33m=\u001b[0m\u001b[1;34m\"Skyhook.csv\"\u001b[0m\u001b[1;33m\u001b[0m\u001b[0m\n\u001b[0;32m     19\u001b[0m \u001b[1;32mprint\u001b[0m\u001b[1;33m(\u001b[0m\u001b[0min_file\u001b[0m\u001b[1;33m)\u001b[0m\u001b[1;33m\u001b[0m\u001b[0m\n\u001b[1;32m---> 20\u001b[1;33m \u001b[1;32mprint\u001b[0m\u001b[1;33m(\u001b[0m\u001b[0mout_file\u001b[0m\u001b[1;33m)\u001b[0m\u001b[1;33m\u001b[0m\u001b[0m\n\u001b[0m\u001b[0;32m     21\u001b[0m \u001b[1;33m\u001b[0m\u001b[0m\n\u001b[0;32m     22\u001b[0m \u001b[1;32mwith\u001b[0m \u001b[0mopen\u001b[0m\u001b[1;33m(\u001b[0m\u001b[0min_file\u001b[0m\u001b[1;33m,\u001b[0m \u001b[1;34m'rb'\u001b[0m\u001b[1;33m)\u001b[0m \u001b[1;32mas\u001b[0m \u001b[0mcsvfile\u001b[0m\u001b[1;33m:\u001b[0m\u001b[1;33m\u001b[0m\u001b[0m\n",
        "\u001b[1;31mNameError\u001b[0m: name 'out_file' is not defined"
       ]
      },
      {
       "output_type": "stream",
       "stream": "stdout",
       "text": [
        "Skyhook.csv\n"
       ]
      }
     ],
     "prompt_number": 3
    },
    {
     "cell_type": "code",
     "collapsed": false,
     "input": [],
     "language": "python",
     "metadata": {},
     "outputs": []
    }
   ],
   "metadata": {}
  }
 ]
}