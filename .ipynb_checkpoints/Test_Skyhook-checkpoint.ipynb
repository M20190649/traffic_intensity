{
 "metadata": {
  "name": ""
 },
 "nbformat": 3,
 "nbformat_minor": 0,
 "worksheets": [
  {
   "cells": [
    {
     "cell_type": "code",
     "collapsed": false,
     "input": [
      "#load Skyhook_processing.py"
     ],
     "language": "python",
     "metadata": {},
     "outputs": [],
     "prompt_number": 63
    },
    {
     "cell_type": "heading",
     "level": 1,
     "metadata": {},
     "source": [
      "Code to create bounding box using Skyhook Data as Input"
     ]
    },
    {
     "cell_type": "code",
     "collapsed": false,
     "input": [
      "import csv\n",
      "import os\n",
      "from pandas import DataFrame\n",
      "from geopandas import GeoDataFrame\n",
      "from shapely.geometry import box\n",
      "import pyproj\n",
      "import numpy as np\n",
      "#Import sample file from one of the days to initially compute data\n",
      "in_file =\"Skyhook.csv\"\n",
      " \n",
      "out_file =r\"Skyhook.shp\"\n",
      "print(in_file)\n",
      "print(out_file)\n",
      "\n",
      "with open(in_file, 'rb') as csvfile:\n",
      "    r = csv.reader(csvfile, delimiter=',')\n",
      "    # create 9 lists containing the columns of the dataset\n",
      "    date, tileID, hour, count, average_lat, average_long, min_lat, min_long, max_lat, max_long = [\n",
      "    ], [], [], [], [], [], [], [], [], []\n",
      "#Note there was a correction to the original code to read the correct columns 0-8 vs 0-9\n",
      "    for row in r:\n",
      "        date.append('20130901')\n",
      "        tileID.append(row[0])\n",
      "        hour.append(row[1])\n",
      "        count.append(row[2])\n",
      "        min_lat.append(row[5])\n",
      "        min_long.append(row[6])\n",
      "        max_lat.append(row[7])\n",
      "        max_long.append(row[8])\n",
      "        #print row\n",
      "len(hour)\n",
      "#A sanity check\n",
      "print (\"{0} {1}\".format (len(hour),\"number of rows in this file\\n\"))\n",
      "#We Can close the file now, since we have read the data we needed\n",
      "csvfile.close()"
     ],
     "language": "python",
     "metadata": {},
     "outputs": [
      {
       "output_type": "stream",
       "stream": "stdout",
       "text": [
        "Skyhook.csv\n",
        "Skyhook.shp\n",
        "109 number of rows in this file\n",
        "\n"
       ]
      }
     ],
     "prompt_number": 3
    },
    {
     "cell_type": "code",
     "collapsed": false,
     "input": [
      "#Next Set up the projection system and transform the coordinates.  Not obvious on why we need this change +\n",
      "#later the shapefile will compain about non-integer coordinate system.\n",
      "# set up coordinate projection suitable for NYC\n",
      "nyp = pyproj.Proj('+datum=NAD83 +lat_0=40.1666666667 +lat_1=40.6666666667 '\n",
      "           '+lat_2=41.0333333333 +lon_0=-74 +no_defs +proj=lcc +units=us-ft '\n",
      "           '+x_0=300000 +y_0', preserve_units=True)\n",
      "wgs84 = pyproj.Proj(init='epsg:4326')\n",
      "\n",
      "x_l, y_b, x_r, y_t= [], [], [], []\n",
      "parr = []\n",
      "# convert the bounding box into geometric coordinates\n",
      "min_long_array = np.asarray(min_long)\n",
      "min_long_array = min_long_array.astype(np.float)\n",
      "min_lat_array = np.asarray(min_lat)\n",
      "min_lat_array = min_lat_array.astype(np.float)\n",
      "########\n",
      "max_long_array = np.asarray(max_long)\n",
      "max_long_array = max_long_array.astype(np.float)\n",
      "max_lat_array = np.asarray(max_lat)\n",
      "max_lat_array = max_lat_array.astype(np.float)\n",
      "    # create (N,2) arrays where N is the number of points and 2 are the coordinates\n",
      "    # pyproj expects the coordinates as (long, lat)\n",
      "x_l, y_b = pyproj.transform(wgs84,nyp, min_long_array, min_lat_array)\n",
      "x_r, y_t = pyproj.transform(wgs84,nyp, max_long_array, max_lat_array)\n",
      "\n",
      "    # form a point array representing the bounding box\n",
      "tl = [x_l, y_t]\n",
      "tr = [x_r, y_t]\n",
      "br = [x_r, y_b]\n",
      "bl = [x_l, y_b]\n",
      "parr = [tl, tr, br, bl, tl]"
     ],
     "language": "python",
     "metadata": {},
     "outputs": [],
     "prompt_number": 15
    },
    {
     "cell_type": "code",
     "collapsed": false,
     "input": [
      "# Let's try plotting what we have first\n",
      "import numpy as np\n",
      "import shapefile\n",
      "import matplotlib.pyplot as plt\n",
      "from mpl_toolkits.basemap import Basemap"
     ],
     "language": "python",
     "metadata": {},
     "outputs": [
      {
       "ename": "ImportError",
       "evalue": "No module named basemap",
       "output_type": "pyerr",
       "traceback": [
        "\u001b[1;31m---------------------------------------------------------------------------\u001b[0m\n\u001b[1;31mImportError\u001b[0m                               Traceback (most recent call last)",
        "\u001b[1;32m<ipython-input-24-159a5149b9ab>\u001b[0m in \u001b[0;36m<module>\u001b[1;34m()\u001b[0m\n\u001b[0;32m      3\u001b[0m \u001b[1;32mimport\u001b[0m \u001b[0mshapefile\u001b[0m\u001b[1;33m\u001b[0m\u001b[0m\n\u001b[0;32m      4\u001b[0m \u001b[1;32mimport\u001b[0m \u001b[0mmatplotlib\u001b[0m\u001b[1;33m.\u001b[0m\u001b[0mpyplot\u001b[0m \u001b[1;32mas\u001b[0m \u001b[0mplt\u001b[0m\u001b[1;33m\u001b[0m\u001b[0m\n\u001b[1;32m----> 5\u001b[1;33m \u001b[1;32mfrom\u001b[0m \u001b[0mmpl_toolkits\u001b[0m\u001b[1;33m.\u001b[0m\u001b[0mbasemap\u001b[0m \u001b[1;32mimport\u001b[0m \u001b[0mBasemap\u001b[0m\u001b[1;33m\u001b[0m\u001b[0m\n\u001b[0m",
        "\u001b[1;31mImportError\u001b[0m: No module named basemap"
       ]
      }
     ],
     "prompt_number": 24
    },
    {
     "cell_type": "code",
     "collapsed": false,
     "input": [
      "# From the Help file we are missing this statement which adds 'name' to the end of each part\n",
      "# First set up the shapefile\n",
      "import shapefile\n",
      "w = shapefile.Writer(shapefile.POLYGON)\n",
      "w.poly(parts=[parr])\n",
      "w.field('name','C',50)\n",
      "w.record('My Bounding Box')\n",
      "# Save shapefile\n",
      "w.save(out_file)"
     ],
     "language": "python",
     "metadata": {},
     "outputs": [
      {
       "ename": "ValueError",
       "evalue": "The truth value of an array with more than one element is ambiguous. Use a.any() or a.all()",
       "output_type": "pyerr",
       "traceback": [
        "\u001b[1;31m---------------------------------------------------------------------------\u001b[0m\n\u001b[1;31mValueError\u001b[0m                                Traceback (most recent call last)",
        "\u001b[1;32m<ipython-input-21-26658c60b4e8>\u001b[0m in \u001b[0;36m<module>\u001b[1;34m()\u001b[0m\n\u001b[0;32m      7\u001b[0m \u001b[0mw\u001b[0m\u001b[1;33m.\u001b[0m\u001b[0mrecord\u001b[0m\u001b[1;33m(\u001b[0m\u001b[1;34m'My Bounding Box'\u001b[0m\u001b[1;33m)\u001b[0m\u001b[1;33m\u001b[0m\u001b[0m\n\u001b[0;32m      8\u001b[0m \u001b[1;31m# Save shapefile\u001b[0m\u001b[1;33m\u001b[0m\u001b[1;33m\u001b[0m\u001b[0m\n\u001b[1;32m----> 9\u001b[1;33m \u001b[0mw\u001b[0m\u001b[1;33m.\u001b[0m\u001b[0msave\u001b[0m\u001b[1;33m(\u001b[0m\u001b[0mout_file\u001b[0m\u001b[1;33m)\u001b[0m\u001b[1;33m\u001b[0m\u001b[0m\n\u001b[0m",
        "\u001b[1;32m/usr/lib/python2.6/site-packages/shapefile.pyc\u001b[0m in \u001b[0;36msave\u001b[1;34m(self, target, shp, shx, dbf)\u001b[0m\n\u001b[0;32m   1026\u001b[0m                 \u001b[0mtarget\u001b[0m \u001b[1;33m=\u001b[0m \u001b[0mtemp\u001b[0m\u001b[1;33m.\u001b[0m\u001b[0mname\u001b[0m\u001b[1;33m\u001b[0m\u001b[0m\n\u001b[0;32m   1027\u001b[0m                 \u001b[0mgenerated\u001b[0m \u001b[1;33m=\u001b[0m \u001b[0mTrue\u001b[0m\u001b[1;33m\u001b[0m\u001b[0m\n\u001b[1;32m-> 1028\u001b[1;33m             \u001b[0mself\u001b[0m\u001b[1;33m.\u001b[0m\u001b[0msaveShp\u001b[0m\u001b[1;33m(\u001b[0m\u001b[0mtarget\u001b[0m\u001b[1;33m)\u001b[0m\u001b[1;33m\u001b[0m\u001b[0m\n\u001b[0m\u001b[0;32m   1029\u001b[0m             \u001b[0mself\u001b[0m\u001b[1;33m.\u001b[0m\u001b[0mshp\u001b[0m\u001b[1;33m.\u001b[0m\u001b[0mclose\u001b[0m\u001b[1;33m(\u001b[0m\u001b[1;33m)\u001b[0m\u001b[1;33m\u001b[0m\u001b[0m\n\u001b[0;32m   1030\u001b[0m             \u001b[0mself\u001b[0m\u001b[1;33m.\u001b[0m\u001b[0msaveShx\u001b[0m\u001b[1;33m(\u001b[0m\u001b[0mtarget\u001b[0m\u001b[1;33m)\u001b[0m\u001b[1;33m\u001b[0m\u001b[0m\n",
        "\u001b[1;32m/usr/lib/python2.6/site-packages/shapefile.pyc\u001b[0m in \u001b[0;36msaveShp\u001b[1;34m(self, target)\u001b[0m\n\u001b[0;32m    983\u001b[0m             \u001b[0mself\u001b[0m\u001b[1;33m.\u001b[0m\u001b[0mshapeType\u001b[0m \u001b[1;33m=\u001b[0m \u001b[0mself\u001b[0m\u001b[1;33m.\u001b[0m\u001b[0m_shapes\u001b[0m\u001b[1;33m[\u001b[0m\u001b[1;36m0\u001b[0m\u001b[1;33m]\u001b[0m\u001b[1;33m.\u001b[0m\u001b[0mshapeType\u001b[0m\u001b[1;33m\u001b[0m\u001b[0m\n\u001b[0;32m    984\u001b[0m         \u001b[0mself\u001b[0m\u001b[1;33m.\u001b[0m\u001b[0mshp\u001b[0m \u001b[1;33m=\u001b[0m \u001b[0mself\u001b[0m\u001b[1;33m.\u001b[0m\u001b[0m__getFileObj\u001b[0m\u001b[1;33m(\u001b[0m\u001b[0mtarget\u001b[0m\u001b[1;33m)\u001b[0m\u001b[1;33m\u001b[0m\u001b[0m\n\u001b[1;32m--> 985\u001b[1;33m         \u001b[0mself\u001b[0m\u001b[1;33m.\u001b[0m\u001b[0m__shapefileHeader\u001b[0m\u001b[1;33m(\u001b[0m\u001b[0mself\u001b[0m\u001b[1;33m.\u001b[0m\u001b[0mshp\u001b[0m\u001b[1;33m,\u001b[0m \u001b[0mheaderType\u001b[0m\u001b[1;33m=\u001b[0m\u001b[1;34m'shp'\u001b[0m\u001b[1;33m)\u001b[0m\u001b[1;33m\u001b[0m\u001b[0m\n\u001b[0m\u001b[0;32m    986\u001b[0m         \u001b[0mself\u001b[0m\u001b[1;33m.\u001b[0m\u001b[0m__shpRecords\u001b[0m\u001b[1;33m(\u001b[0m\u001b[1;33m)\u001b[0m\u001b[1;33m\u001b[0m\u001b[0m\n\u001b[0;32m    987\u001b[0m \u001b[1;33m\u001b[0m\u001b[0m\n",
        "\u001b[1;32m/usr/lib/python2.6/site-packages/shapefile.pyc\u001b[0m in \u001b[0;36m__shapefileHeader\u001b[1;34m(self, fileObj, headerType)\u001b[0m\n\u001b[0;32m    705\u001b[0m         \u001b[1;32mif\u001b[0m \u001b[0mself\u001b[0m\u001b[1;33m.\u001b[0m\u001b[0mshapeType\u001b[0m \u001b[1;33m!=\u001b[0m \u001b[1;36m0\u001b[0m\u001b[1;33m:\u001b[0m\u001b[1;33m\u001b[0m\u001b[0m\n\u001b[0;32m    706\u001b[0m             \u001b[1;32mtry\u001b[0m\u001b[1;33m:\u001b[0m\u001b[1;33m\u001b[0m\u001b[0m\n\u001b[1;32m--> 707\u001b[1;33m                 \u001b[0mf\u001b[0m\u001b[1;33m.\u001b[0m\u001b[0mwrite\u001b[0m\u001b[1;33m(\u001b[0m\u001b[0mpack\u001b[0m\u001b[1;33m(\u001b[0m\u001b[1;34m\"<4d\"\u001b[0m\u001b[1;33m,\u001b[0m \u001b[1;33m*\u001b[0m\u001b[0mself\u001b[0m\u001b[1;33m.\u001b[0m\u001b[0mbbox\u001b[0m\u001b[1;33m(\u001b[0m\u001b[1;33m)\u001b[0m\u001b[1;33m)\u001b[0m\u001b[1;33m)\u001b[0m\u001b[1;33m\u001b[0m\u001b[0m\n\u001b[0m\u001b[0;32m    708\u001b[0m             \u001b[1;32mexcept\u001b[0m \u001b[0merror\u001b[0m\u001b[1;33m:\u001b[0m\u001b[1;33m\u001b[0m\u001b[0m\n\u001b[0;32m    709\u001b[0m                 \u001b[1;32mraise\u001b[0m \u001b[0mShapefileException\u001b[0m\u001b[1;33m(\u001b[0m\u001b[1;34m\"Failed to write shapefile bounding box. Floats required.\"\u001b[0m\u001b[1;33m)\u001b[0m\u001b[1;33m\u001b[0m\u001b[0m\n",
        "\u001b[1;32m/usr/lib/python2.6/site-packages/shapefile.pyc\u001b[0m in \u001b[0;36mbbox\u001b[1;34m(self)\u001b[0m\n\u001b[0;32m    677\u001b[0m         \u001b[0mthe\u001b[0m \u001b[0mlower\u001b[0m\u001b[1;33m-\u001b[0m\u001b[0mleft\u001b[0m \u001b[1;32mand\u001b[0m \u001b[0mupper\u001b[0m\u001b[1;33m-\u001b[0m\u001b[0mright\u001b[0m \u001b[0mcorners\u001b[0m\u001b[1;33m.\u001b[0m \u001b[0mIt\u001b[0m \u001b[0mdoes\u001b[0m \u001b[1;32mnot\u001b[0m \u001b[0mcontain\u001b[0m \u001b[0mthe\u001b[0m\u001b[1;33m\u001b[0m\u001b[0m\n\u001b[0;32m    678\u001b[0m         elevation or measure extremes.\"\"\"\n\u001b[1;32m--> 679\u001b[1;33m         \u001b[1;32mreturn\u001b[0m \u001b[0mself\u001b[0m\u001b[1;33m.\u001b[0m\u001b[0m__bbox\u001b[0m\u001b[1;33m(\u001b[0m\u001b[0mself\u001b[0m\u001b[1;33m.\u001b[0m\u001b[0m_shapes\u001b[0m\u001b[1;33m)\u001b[0m\u001b[1;33m\u001b[0m\u001b[0m\n\u001b[0m\u001b[0;32m    680\u001b[0m \u001b[1;33m\u001b[0m\u001b[0m\n\u001b[0;32m    681\u001b[0m     \u001b[1;32mdef\u001b[0m \u001b[0mzbox\u001b[0m\u001b[1;33m(\u001b[0m\u001b[0mself\u001b[0m\u001b[1;33m)\u001b[0m\u001b[1;33m:\u001b[0m\u001b[1;33m\u001b[0m\u001b[0m\n",
        "\u001b[1;32m/usr/lib/python2.6/site-packages/shapefile.pyc\u001b[0m in \u001b[0;36m__bbox\u001b[1;34m(self, shapes, shapeTypes)\u001b[0m\n\u001b[0;32m    650\u001b[0m             \u001b[0mx\u001b[0m\u001b[1;33m.\u001b[0m\u001b[0mextend\u001b[0m\u001b[1;33m(\u001b[0m\u001b[0mpx\u001b[0m\u001b[1;33m)\u001b[0m\u001b[1;33m\u001b[0m\u001b[0m\n\u001b[0;32m    651\u001b[0m             \u001b[0my\u001b[0m\u001b[1;33m.\u001b[0m\u001b[0mextend\u001b[0m\u001b[1;33m(\u001b[0m\u001b[0mpy\u001b[0m\u001b[1;33m)\u001b[0m\u001b[1;33m\u001b[0m\u001b[0m\n\u001b[1;32m--> 652\u001b[1;33m         \u001b[1;32mreturn\u001b[0m \u001b[1;33m[\u001b[0m\u001b[0mmin\u001b[0m\u001b[1;33m(\u001b[0m\u001b[0mx\u001b[0m\u001b[1;33m)\u001b[0m\u001b[1;33m,\u001b[0m \u001b[0mmin\u001b[0m\u001b[1;33m(\u001b[0m\u001b[0my\u001b[0m\u001b[1;33m)\u001b[0m\u001b[1;33m,\u001b[0m \u001b[0mmax\u001b[0m\u001b[1;33m(\u001b[0m\u001b[0mx\u001b[0m\u001b[1;33m)\u001b[0m\u001b[1;33m,\u001b[0m \u001b[0mmax\u001b[0m\u001b[1;33m(\u001b[0m\u001b[0my\u001b[0m\u001b[1;33m)\u001b[0m\u001b[1;33m]\u001b[0m\u001b[1;33m\u001b[0m\u001b[0m\n\u001b[0m\u001b[0;32m    653\u001b[0m \u001b[1;33m\u001b[0m\u001b[0m\n\u001b[0;32m    654\u001b[0m     \u001b[1;32mdef\u001b[0m \u001b[0m__zbox\u001b[0m\u001b[1;33m(\u001b[0m\u001b[0mself\u001b[0m\u001b[1;33m,\u001b[0m \u001b[0mshapes\u001b[0m\u001b[1;33m,\u001b[0m \u001b[0mshapeTypes\u001b[0m\u001b[1;33m=\u001b[0m\u001b[1;33m[\u001b[0m\u001b[1;33m]\u001b[0m\u001b[1;33m)\u001b[0m\u001b[1;33m:\u001b[0m\u001b[1;33m\u001b[0m\u001b[0m\n",
        "\u001b[1;31mValueError\u001b[0m: The truth value of an array with more than one element is ambiguous. Use a.any() or a.all()"
       ]
      }
     ],
     "prompt_number": 21
    },
    {
     "cell_type": "code",
     "collapsed": false,
     "input": [
      "#Whoever wrote the original really makes me wonder about what is included\n",
      "# You can't start defining fields before you open the writer object.  This \n",
      "# Never could have worked in any enviornment.  w is undefined.  So I'm moving\n",
      "# the definition AFTER opening the writer.\n",
      "###########\n",
      "# The entire use of the shapefile doesn't seem correct. The problem is that once I use the correct\n",
      "#syntax I run into issues in creating the necessary information to create a bounding box.\n",
      "#It seems we are missing the code for defining box as a shapefile, the definition of name and the proper way to\n",
      "#iterate through building the polygons out of the shapes.\n",
      "#Let's start by properly defining a shapefile object\n",
      "from shapely.geometry import box\n",
      "    # Set up shapefile writer and create empty fields\n",
      "maxStringLength = 50\n",
      "#w.field('name', 'C', maxStringLength)\n",
      "\n",
      "    # Set up shapefile writer and create empty fields\n",
      "w = box.Writer(box.POLYGON)\n",
      "w.autoBalance = 1  # ensures gemoetry and attributes match\n",
      "w.field('X', 'F', 10, 8)\n",
      "w.field('Y', 'F', 10, 8)\n",
      "w.field('Date', 'D')\n",
      "w.field('ID', 'N')\n",
      "\n",
      "    # loop through the data and write the shapefile\n",
      "for j, name in enumerate(name):\n",
      " w.poly(parts=parr[j])\n",
      " w.record(name)\n",
      "\n",
      "# Save shapefile\n",
      "w.save(out_file)"
     ],
     "language": "python",
     "metadata": {},
     "outputs": [
      {
       "ename": "AttributeError",
       "evalue": "'function' object has no attribute 'Writer'",
       "output_type": "pyerr",
       "traceback": [
        "\u001b[1;31m---------------------------------------------------------------------------\u001b[0m\n\u001b[1;31mAttributeError\u001b[0m                            Traceback (most recent call last)",
        "\u001b[1;32m<ipython-input-11-5889fa241845>\u001b[0m in \u001b[0;36m<module>\u001b[1;34m()\u001b[0m\n\u001b[0;32m      8\u001b[0m \u001b[1;33m\u001b[0m\u001b[0m\n\u001b[0;32m      9\u001b[0m     \u001b[1;31m# Set up shapefile writer and create empty fields\u001b[0m\u001b[1;33m\u001b[0m\u001b[1;33m\u001b[0m\u001b[0m\n\u001b[1;32m---> 10\u001b[1;33m \u001b[0mw\u001b[0m \u001b[1;33m=\u001b[0m \u001b[0mbox\u001b[0m\u001b[1;33m.\u001b[0m\u001b[0mWriter\u001b[0m\u001b[1;33m(\u001b[0m\u001b[0mbox\u001b[0m\u001b[1;33m.\u001b[0m\u001b[0mPOLYGON\u001b[0m\u001b[1;33m)\u001b[0m\u001b[1;33m\u001b[0m\u001b[0m\n\u001b[0m\u001b[0;32m     11\u001b[0m \u001b[0mw\u001b[0m\u001b[1;33m.\u001b[0m\u001b[0mautoBalance\u001b[0m \u001b[1;33m=\u001b[0m \u001b[1;36m1\u001b[0m  \u001b[1;31m# ensures gemoetry and attributes match\u001b[0m\u001b[1;33m\u001b[0m\u001b[0m\n\u001b[0;32m     12\u001b[0m \u001b[0mw\u001b[0m\u001b[1;33m.\u001b[0m\u001b[0mfield\u001b[0m\u001b[1;33m(\u001b[0m\u001b[1;34m'X'\u001b[0m\u001b[1;33m,\u001b[0m \u001b[1;34m'F'\u001b[0m\u001b[1;33m,\u001b[0m \u001b[1;36m10\u001b[0m\u001b[1;33m,\u001b[0m \u001b[1;36m8\u001b[0m\u001b[1;33m)\u001b[0m\u001b[1;33m\u001b[0m\u001b[0m\n",
        "\u001b[1;31mAttributeError\u001b[0m: 'function' object has no attribute 'Writer'"
       ]
      }
     ],
     "prompt_number": 11
    },
    {
     "cell_type": "heading",
     "level": 1,
     "metadata": {},
     "source": [
      "Original Code"
     ]
    },
    {
     "cell_type": "code",
     "collapsed": false,
     "input": [
      "import csv\n",
      "import os\n",
      "from pandas import DataFrame\n",
      "from geopandas import GeoDataFrame\n",
      "from shapely.geometry import box\n",
      "import pyproj\n",
      "import numpy as np\n",
      "# Make all matlib functions accessible at the top level via M.func()\n",
      "import numpy.matlib as M\n",
      "# Make some matlib functions accessible directly at the top level via,\n",
      "# e.g. rand(3,3)\n",
      "from numpy.matlib import rand, zeros, ones, empty, eye\n",
      "# Define a Hermitian function\n",
      "\n",
      "\n",
      "def hermitian(A, **kwargs):\n",
      "    return np.transpose(A, **kwargs).conj()\n",
      "\n",
      "# Make some shorcuts for transpose,hermitian:\n",
      "#    num.transpose(A) --> T(A)\n",
      "#    hermitian(A) --> H(A)\n",
      "T = np.transpose\n",
      "H = hermitian\n",
      "\n",
      "\n",
      "#in_file = 'C:\\\\Projects\\\\Data\\\\Skyhook\\\\2013-09-01\\\\Skyhook.csv'\n",
      "in_file = 'C:\\\\Projects\\\\Python_Projects\\\\simcity\\\\data\\\\skyhook-data\\\\2013-09-01\\\\Skyhook.csv'\n",
      "#in_file = os.path.normpath(\"C:\\Projects\\Python_Projects\\simcity\\data\\skyhook-data\\2013-09-01\\Skyhook.csv\")\n",
      "in_file = r\"C:\\Projects\\Python_Projects\\simcity\\data\\skyhook-data\\2013-09-01\\Skyhook.csv\"\n",
      "in_file = r\"Skyhook.csv\"\n",
      "\n",
      "out_file = r\"C:\\Projects\\Python_Projects\\simcity\\source\\traffic-intensity-map\\Skyhook.shp\"\n",
      "#out_file = os.path.normpath(\"C:\\Projects\\Python_Projects\\simcity\\data\\skyhook-data\\2013-09-01\\Skyhook.shp\")\n",
      "out_file =r\"Skyhook.shp\"\n",
      "print(in_file)\n",
      "print(out_file)\n",
      "\n",
      "def main():\n",
      "# Skyhook data are structured as follows:\n",
      "# Tile ID: a 9 character hexadecimal identifier of the Tile\n",
      "# Hour ID: local time zone adjusted day of the week (0-168, 0 represents from\n",
      "# Midnight to 1AM on Sunday morning)\n",
      "# Tile Requests: activity summary for the Tile at that particular Hour ID (1-n)\n",
      "# Average Latitude: averaged centroid of requests within the TileID for the\n",
      "# given hour as measured in degrees\n",
      "# Average Longitude: averaged centroid of requests within the TileID for the\n",
      "# given hour as measured in degrees\n",
      "# The rest 4 coordinates define the bounding box of the tile.\n",
      "\n",
      "# read data from csv file and store in lists\n",
      "    with open(in_file, 'rb') as csvfile:\n",
      "        r = csv.reader(csvfile, delimiter=',')\n",
      "        # create 9 lists containing the columns of the dataset\n",
      "        date, tileID, hour, count, average_lat, average_long, min_lat, min_long, max_lat, max_long = [\n",
      "        ], [], [], [], [], [], [], [], [], []\n",
      "\n",
      "        for row in r:\n",
      "            date.append('20130901')\n",
      "            tileID.append(row[0])\n",
      "            hour.append(row[1])\n",
      "            count.append(row[2])\n",
      "            min_lat.append(row[5])\n",
      "            min_long.append(row[6])\n",
      "            max_lat.append(row[7])\n",
      "            max_long.append(row[8])\n",
      "\t\t\n",
      "    len(hour)\t\n",
      "\n",
      "    # set up coordinate projection suitable for NYC\n",
      "    nyp = pyproj.Proj('+datum=NAD83 +lat_0=40.1666666667 +lat_1=40.6666666667 '\n",
      "           '+lat_2=41.0333333333 +lon_0=-74 +no_defs +proj=lcc +units=us-ft '\n",
      "           '+x_0=300000 +y_0', preserve_units=True)\n",
      "    wgs84 = pyproj.Proj(init='epsg:4326')\n",
      "\n",
      "    x_l, y_b, x_r, y_t = [], [], [], []\n",
      "    # convert the bounding box into geometric coordinates\n",
      "    min_long_array = np.asarray(min_long)\n",
      "    min_long_array = min_long_array.astype(np.float)\n",
      "    min_lat_array = np.asarray(min_lat)\n",
      "    min_lat_array = min_lat_array.astype(np.float)\n",
      "    max_long_array = np.asarray(max_long)\n",
      "    max_long_array = max_long_array.astype(np.float)\n",
      "    max_lat_array = np.asarray(max_lat)\n",
      "    max_lat_array = max_lat_array.astype(np.float)\n",
      "    # create (N,2) arrays where N is the number of points and 2 are the coordinates\n",
      "    # pyproj expects the coordinates as (long, lat)\n",
      "    x_l, y_b = pyproj.transform(wgs84, min_long_array, min_lat_array)\n",
      "    x_r, y_t = pyproj.transform(wgs84, max_long_array, max_lat_array)\n",
      "\n",
      "    # form a point array representing the bounding box\n",
      "    tl = [x_l, y_t]\n",
      "    tr = [x_r, y_t]\n",
      "    br = [x_r, y_b]\n",
      "    bl = [x_l, y_b]\n",
      "    parr = [tl, tr, br, bl, tl]\n",
      "    # Set up shapefile writer and create empty fields\n",
      "    maxStringLength = 50\n",
      "    w.field('name', 'C', maxStringLength)\n",
      "\n",
      "    # Set up shapefile writer and create empty fields\n",
      "    w = box.Writer(box.POLYGON)\n",
      "    w.autoBalance = 1  # ensures gemoetry and attributes match\n",
      "    w.field('X', 'F', 10, 8)\n",
      "    w.field('Y', 'F', 10, 8)\n",
      "    w.field('Date', 'D')\n",
      "    w.field('ID', 'N')\n",
      "\n",
      "    # loop through the data and write the shapefile\n",
      "    for j, name in enumerate(name):\n",
      "        w.poly(parts=parr[j])\n",
      "        w.record(name)\n",
      "\n",
      "    # Save shapefile\n",
      "    w.save(out_file)\n",
      "\n",
      "    data = DataFrame.from_csv('rect.csv')\n",
      "    boxes = [box(row['x_l'], row['y_b'], row['x_r'], row['y_t'])\n",
      "        for key, row in data.iterrows()]\n",
      "    df = GeoDataFrame(boxes, columns=['geometry'], index=data.index)\n",
      "    df.to_file('out.shp', driver='ESRI Shapefile')\n"
     ],
     "language": "python",
     "metadata": {},
     "outputs": [
      {
       "output_type": "stream",
       "stream": "stdout",
       "text": [
        "Skyhook.csv\n",
        "Skyhook.shp\n"
       ]
      }
     ],
     "prompt_number": 2
    },
    {
     "cell_type": "markdown",
     "metadata": {},
     "source": [
      "<b>Based on some of the errors that I've seen in this code fragment I think it needs to be tuned a bit</b>"
     ]
    },
    {
     "cell_type": "raw",
     "metadata": {},
     "source": [
      "To get past the errors I'm going to experiment in this notebook with some variations of reading the data.\n",
      "I've noticed that the indexes for columns go to 9 starting from 0, but there are only 9 columns.  Also, the original program only attempts to read in the bounding box data.\n",
      "I've changed some of the indents to get the with open statement to operate while the file was open.  In the original code either I did something wrong or the indention was wrong throwing a file closed operation error.\n",
      "\n",
      "I also discovered the nice \"r\" function to help with backslashes, but other suggestions are"
     ]
    },
    {
     "cell_type": "code",
     "collapsed": false,
     "input": [
      "import os\n",
      "myfile = os.path.normpath(\"..\\Skyhook.csv\")\n",
      "print myfile\n",
      "myDir = os.path.dirname(myfile)\n",
      "print myDir"
     ],
     "language": "python",
     "metadata": {},
     "outputs": [
      {
       "output_type": "stream",
       "stream": "stdout",
       "text": [
        "..\\Skyhook.csv\n",
        "\n"
       ]
      }
     ],
     "prompt_number": 4
    },
    {
     "cell_type": "code",
     "collapsed": false,
     "input": [],
     "language": "python",
     "metadata": {},
     "outputs": []
    },
    {
     "cell_type": "code",
     "collapsed": false,
     "input": [
      "if __name__ == '__main__':\n",
      "    main()"
     ],
     "language": "python",
     "metadata": {},
     "outputs": [
      {
       "ename": "NameError",
       "evalue": "name 'main' is not defined",
       "output_type": "pyerr",
       "traceback": [
        "\u001b[1;31m---------------------------------------------------------------------------\u001b[0m\n\u001b[1;31mNameError\u001b[0m                                 Traceback (most recent call last)",
        "\u001b[1;32m<ipython-input-3-2436fc2ab63a>\u001b[0m in \u001b[0;36m<module>\u001b[1;34m()\u001b[0m\n\u001b[0;32m      1\u001b[0m \u001b[1;32mif\u001b[0m \u001b[0m__name__\u001b[0m \u001b[1;33m==\u001b[0m \u001b[1;34m'__main__'\u001b[0m\u001b[1;33m:\u001b[0m\u001b[1;33m\u001b[0m\u001b[0m\n\u001b[1;32m----> 2\u001b[1;33m     \u001b[0mmain\u001b[0m\u001b[1;33m(\u001b[0m\u001b[1;33m)\u001b[0m\u001b[1;33m\u001b[0m\u001b[0m\n\u001b[0m",
        "\u001b[1;31mNameError\u001b[0m: name 'main' is not defined"
       ]
      }
     ],
     "prompt_number": 3
    }
   ],
   "metadata": {}
  }
 ]
}