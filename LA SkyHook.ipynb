{
 "metadata": {
  "name": ""
 },
 "nbformat": 3,
 "nbformat_minor": 0,
 "worksheets": [
  {
   "cells": [
    {
     "cell_type": "code",
     "collapsed": false,
     "input": [
      "import csv\n",
      "import os\n",
      "import numpy as np\n",
      "import matplotlib.pyplot as pl\n",
      "\n",
      "# Skyhook data are structured as follows:\n",
      "# Tile ID: a 9 character hexadecimal identifier of the Tile\n",
      "# Hour ID: local time zone adjusted day of the week (0-168, 0 represents from\n",
      "# Midnight to 1AM on Sunday morning)\n",
      "# Tile Requests: activity summary for the Tile at that particular Hour ID (1-n)\n",
      "# Average Latitude: averaged centroid of requests within the TileID for the\n",
      "# given hour as measured in degrees\n",
      "# Average Longitude: averaged centroid of requests within the TileID for the\n",
      "# given hour as measured in degrees\n",
      "# The rest 4 coordinates define the bounding box of the tile.\n",
      "in_file = r\"C:\\Projects\\Python_Projects\\simcity\\data\\skyhook-data\\2013-09-01\\Skyhook.csv\"\n",
      "in_file = r\"C:\\Users\\slbryson\\Documents\\saas\\LA\\LA6\"\n",
      "in_file = r\"C:\\Users\\slbryson\\Documents\\saas\\LA\\LA6\\2014-02-01\\part-r-00000\"\n",
      "in_file =\"Skyhook.csv\"\n",
      "out_file = \"Skyhook.shp\"\n",
      "\n",
      "in_file = r\"C:\\Users\\slbryson\\Documents\\saas\\LA\\LA6\\2014-02-01\\part-r-00000\"\n",
      "filedate =in_file[40:-13:]\n",
      "with open(in_file, 'rb') as csvfile:\n",
      "    r = csv.reader(csvfile, delimiter='\\t')\n",
      "    # create 9 lists containing the columns of the dataset\n",
      "    date, tileID, hour, count, average_lat, average_long, min_lat, min_long, max_lat, max_long = [\n",
      "    ], [], [], [], [], [], [], [], [], []\n",
      "\n",
      "    for row in r:\n",
      "        date.append(filedate)\n",
      "        tileID.append(row[0])\n",
      "        hour.append(row[1])\n",
      "        count.append(row[2])\n",
      "        average_lat.append(row[3])\n",
      "        average_long.append(row[4])\n",
      "        min_lat.append(row[5])\n",
      "        min_long.append(row[6])\n",
      "        max_lat.append(row[7])\n",
      "        max_long.append(row[8])\n",
      "\n",
      "\n",
      "dset = zip(hour, tileID, count, date, average_lat, average_long, min_lat, min_long, max_lat, max_long)\t\t\n",
      "print (\"{0} {1} {2}\".format (len(hour),\"number of rows in this file\",in_file))\n",
      " \n",
      "csvfile.close()\n",
      "pl.figure(1)\n",
      "pl.cla()\n",
      "c,m  = [('b'),('o')]\n",
      "# Now Plot the Averages of each tile to see where they lay\n",
      "pl.title(\"The average Tile Locations in LA for \" + filedate)\n",
      "pl.xlabel('Longitude')\n",
      "pl.ylabel('Latitude')\n",
      "pl.plot(average_long,average_lat,'r+')\n",
      "\t\n",
      "pl.show()\n",
      " "
     ],
     "language": "python",
     "metadata": {},
     "outputs": [
      {
       "output_type": "stream",
       "stream": "stdout",
       "text": [
        "59450 number of rows in this file C:\\Users\\slbryson\\Documents\\saas\\LA\\LA6\\2014-02-01\\part-r-00000\n"
       ]
      }
     ],
     "prompt_number": 3
    },
    {
     "cell_type": "code",
     "collapsed": false,
     "input": [
      "#for rows in range(5, 10):\n",
      "\n",
      "for rows in range(1,10):\n",
      "    pl.plot(min_long[rows],min_lat[rows],c+m)\n",
      "    pl.plot(max_long[rows],max_lat[rows],c+m)\n",
      "    pl.plot(min_long[rows],max_lat[rows],c+m)\n",
      "    pl.plot(max_long[rows],min_lat[rows],c+m, average_long[rows],average_lat[rows],'r+')\n",
      "    #pl.text(average_long[rows],average_lat[rows],tileID[rows])\n",
      "    #pl.text(average_long[rows],average_lat[rows],count[rows])\n",
      "    pl.text(average_long[rows],average_lat[rows],hour[rows])\n",
      "pl.ion()\n",
      "pl.draw()\n",
      "pl.show()\n"
     ],
     "language": "python",
     "metadata": {},
     "outputs": [],
     "prompt_number": 5
    },
    {
     "cell_type": "code",
     "collapsed": false,
     "input": [],
     "language": "python",
     "metadata": {},
     "outputs": [],
     "prompt_number": 7
    },
    {
     "cell_type": "heading",
     "level": 1,
     "metadata": {},
     "source": [
      "Let's Now try another experiment"
     ]
    },
    {
     "cell_type": "code",
     "collapsed": false,
     "input": [
      "import csv\n",
      "import os\n",
      "import numpy as np\n",
      "import matplotlib.pyplot as pl\n",
      "\n",
      "# Skyhook data are structured as follows:\n",
      "# Tile ID: a 9 character hexadecimal identifier of the Tile\n",
      "# Hour ID: local time zone adjusted day of the week (0-168, 0 represents from\n",
      "# Midnight to 1AM on Sunday morning)\n",
      "# Tile Requests: activity summary for the Tile at that particular Hour ID (1-n)\n",
      "# Average Latitude: averaged centroid of requests within the TileID for the\n",
      "# given hour as measured in degrees\n",
      "# Average Longitude: averaged centroid of requests within the TileID for the\n",
      "# given hour as measured in degrees\n",
      "# The rest 4 coordinates define the bounding box of the tile.\n",
      "in_file = r\"C:\\Projects\\Python_Projects\\simcity\\data\\skyhook-data\\2013-09-01\\Skyhook.csv\"\n",
      "in_file = r\"C:\\Users\\slbryson\\Documents\\saas\\LA\\LA6\"\n",
      "in_file = r\"C:\\Users\\slbryson\\Documents\\saas\\LA\\LA6\\2014-02-01\\part-r-00000\"\n",
      "#in_file =\"Skyhook.csv\"\n",
      "out_file = \"Skyhook.shp\"\n",
      "print(in_file)\n",
      "print(out_file)\n",
      "\n",
      "with open(in_file, 'rb') as csvfile:\n",
      "    r = csv.reader(csvfile, delimiter='\\t')\n",
      "    # create 9 lists containing the columns of the dataset\n",
      "    date, tileID, hour, count, average_lat, average_long, min_lat, min_long, max_lat, max_long = [\n",
      "    ], [], [], [], [], [], [], [], [], []\n",
      "    # This loop can only be used when someone has pre-processed the data an placed them into comma\n",
      "    # separate columns.  We need to use a different method for space separated data\n",
      "\n",
      "#if True:\n",
      "    for row in r:\n",
      "        date.append('20140201')\n",
      "        tileID.append(row[0])\n",
      "        hour.append(row[1])\n",
      "        count.append(row[2])\n",
      "        average_lat.append(row[3])\n",
      "        average_long.append(row[4])\n",
      "        min_lat.append(row[5])\n",
      "        min_long.append(row[6])\n",
      "        max_lat.append(row[7])\n",
      "        max_long.append(row[8])\n",
      "     \n",
      "\t\t\n",
      "print (\"{0} {1}\".format (len(hour),\"number of rows in this file\\n\"))\n",
      "print min_lat[0], min_long[0], average_lat[0]\t\t\n",
      "csvfile.close()"
     ],
     "language": "python",
     "metadata": {},
     "outputs": [
      {
       "output_type": "stream",
       "stream": "stdout",
       "text": [
        "C:\\Users\\slbryson\\Documents\\saas\\LA\\LA6\\2014-02-01\\part-r-00000\n",
        "Skyhook.shp\n",
        "59450 number of rows in this file\n"
       ]
      },
      {
       "output_type": "stream",
       "stream": "stdout",
       "text": [
        "\n",
        "33.722412109375 -118.298828125 33.722618103027344\n"
       ]
      }
     ],
     "prompt_number": 7
    },
    {
     "cell_type": "code",
     "collapsed": false,
     "input": [
      "# A single boundiing box\n",
      "ax = pl.figure(1)\n",
      "pl.title('Bounding box of Tile 4')\n",
      "#pl.text(average_long[4],average_lat[4],'Tileid')\n",
      "pl.text(average_long[4],average_lat[4],tileID[4])\n",
      "\n",
      "pl.plot(min_long[4],min_lat[4],'bo')\n",
      "pl.plot(max_long[4],max_lat[4],'bo')\n",
      "pl.plot(min_long[4],max_lat[4],'bo')\n",
      "pl.plot(max_long[4],min_lat[4],'bo', average_long[4],average_lat[4],'r+')\n"
     ],
     "language": "python",
     "metadata": {},
     "outputs": [
      {
       "metadata": {},
       "output_type": "pyout",
       "prompt_number": 16,
       "text": [
        "[<matplotlib.lines.Line2D at 0x11455ef0>,\n",
        " <matplotlib.lines.Line2D at 0xd2007f0>]"
       ]
      }
     ],
     "prompt_number": 16
    },
    {
     "cell_type": "code",
     "collapsed": false,
     "input": [
      "#pl.plot(min_long,min_lat)\n",
      "#pl.plot(max_long,max_lat)\n",
      "#pl.plot(min_long,max_lat,max_long,min_lat,'r+')\n",
      " \n",
      "ax= pl.subplot(111)\n",
      "#pl.plot(average_long,average_lat,'mo')\n",
      "pl.plot(min_long[24],min_lat[24],'ro')\n",
      "pl.plot(max_long[24],max_lat[24],'ro')\n",
      "pl.plot(min_long[24],max_lat[24],'ro')\n",
      "pl.plot(max_long[24],min_lat[24],'ro', average_long[24],average_lat[24],'g+')\n",
      "pl.text(average_long[24],average_lat[24],tileID[24])\n",
      "pl.show()\n",
      " "
     ],
     "language": "python",
     "metadata": {},
     "outputs": [],
     "prompt_number": 17
    },
    {
     "cell_type": "code",
     "collapsed": false,
     "input": [],
     "language": "python",
     "metadata": {},
     "outputs": []
    }
   ],
   "metadata": {}
  }
 ]
}