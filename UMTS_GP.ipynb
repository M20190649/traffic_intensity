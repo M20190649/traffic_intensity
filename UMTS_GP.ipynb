{
 "metadata": {
  "name": ""
 },
 "nbformat": 3,
 "nbformat_minor": 0,
 "worksheets": [
  {
   "cells": [
    {
     "cell_type": "code",
     "collapsed": false,
     "input": [
      "import pylab as pb\n",
      "pb.ion()\n",
      "import numpy as np\n",
      "import matplotlib.pyplot\n",
      "import GPy\n",
      "import random\n",
      "import get_loc\n",
      "import getwcdma"
     ],
     "language": "python",
     "metadata": {},
     "outputs": [],
     "prompt_number": 1
    },
    {
     "cell_type": "code",
     "collapsed": false,
     "input": [
      "#Test the UMTS GP processing on Dummy Data\n",
      "# Create some dummy location data\n",
      "#Match an index and perform the operations\n",
      "\n",
      "\n",
      "date =name =[]\n",
      "name = 'cellid'\n",
      "lat =[]\n",
      "lon=[]\n",
      "loc_length = 20\n",
      "#build and id list for the cell names We will make the location vector a little shorter than the data vector\n",
      "name =[name + str(row) for row in range(loc_length)]\n",
      "# After we build the data we don't want to be in original order\n",
      "random.shuffle(name)\n",
      "\n",
      "\n",
      "#build some random coordinates\n",
      "lat  =[42]*loc_length \n",
      "lon = [-73]*loc_length\n",
      "#clat = np.zeros(loc_length)\n",
      "# Create a random offset from the center location\n",
      "clat = np.random.rand(loc_length)\n",
      "random.shuffle(clat)\n",
      "lat += clat\n",
      "lon += -clat\n",
      "loc =  zip(name,lat,lon)\n",
      "#############################\n",
      "#now create some dummy data\n",
      "######\n",
      "# Let's retrieve some real location data\n",
      "\n",
      "name2, lat, lon = get_loc.get_loc()\n",
      " \n",
      "lat = lat.tolist()\n",
      "lon = lon.tolist()\n",
      "name2 = name2.tolist()\n",
      " \n",
      "loc = zip(name2,lat,lon)\n",
      "\n",
      "date ='20140100'\n",
      "length_data = 10\n",
      "date =[date + str(row) for row in range(length_data)]\n",
      " \n",
      "dbdata = np.random.randint(0,1500,length_data)\n",
      "\n",
      "# Randomly shuffle the columns, first transpose since the shuffle works on rows\n",
      "# this helps verify that we are finding the right matches.\n",
      "random.shuffle(name)\n",
      "\n",
      "#loc = np.transpose(loc)\n",
      "#These Statements just create a random set of data in the range of 0 to 750.  We want the data item in \n",
      "#position 3.  the actual data is formatted this way so we have to hard code it.\n",
      "\n",
      "dbdata2 = np.random.randint(0,1750,length_data)\n",
      "dbdata1 = np.random.randint(0,350,length_data)\n",
      "dbdata3 = zip(date,name2,dbdata1,dbdata2)\n",
      "\n",
      "print \"How long is our data set?  \", \"Location=\", len(loc),\"dbdata =\", len(dbdata)\n",
      " \n",
      "#print loc\n",
      "#print dbdata"
     ],
     "language": "python",
     "metadata": {},
     "outputs": [
      {
       "ename": "OperationalError",
       "evalue": "(com_error(-2147352567, 'Exception occurred.', (0, u'Microsoft OLE DB Provider for SQL Server', u\"Login failed for user 'slbryson'.\", None, 0, -2147217843), None), 'Error opening connection: Provider=SQLOLEDB.1; Initial Catalog=wms_kpi; Data Source=135.222.212.16; user ID=slbryson; Password=janfeb222!; ')",
       "output_type": "pyerr",
       "traceback": [
        "\u001b[1;31m---------------------------------------------------------------------------\u001b[0m\n\u001b[1;31mOperationalError\u001b[0m                          Traceback (most recent call last)",
        "\u001b[1;32m<ipython-input-2-2b498b8ffc8f>\u001b[0m in \u001b[0;36m<module>\u001b[1;34m()\u001b[0m\n\u001b[0;32m     30\u001b[0m \u001b[1;31m# Let's retrieve some real location data\u001b[0m\u001b[1;33m\u001b[0m\u001b[1;33m\u001b[0m\u001b[0m\n\u001b[0;32m     31\u001b[0m \u001b[1;33m\u001b[0m\u001b[0m\n\u001b[1;32m---> 32\u001b[1;33m \u001b[0mname2\u001b[0m\u001b[1;33m,\u001b[0m \u001b[0mlat\u001b[0m\u001b[1;33m,\u001b[0m \u001b[0mlon\u001b[0m \u001b[1;33m=\u001b[0m \u001b[0mget_loc\u001b[0m\u001b[1;33m.\u001b[0m\u001b[0mget_loc\u001b[0m\u001b[1;33m(\u001b[0m\u001b[1;33m)\u001b[0m\u001b[1;33m\u001b[0m\u001b[0m\n\u001b[0m\u001b[0;32m     33\u001b[0m \u001b[1;33m\u001b[0m\u001b[0m\n\u001b[0;32m     34\u001b[0m \u001b[0mlat\u001b[0m \u001b[1;33m=\u001b[0m \u001b[0mlat\u001b[0m\u001b[1;33m.\u001b[0m\u001b[0mtolist\u001b[0m\u001b[1;33m(\u001b[0m\u001b[1;33m)\u001b[0m\u001b[1;33m\u001b[0m\u001b[0m\n",
        "\u001b[1;32mC:\\Users\\slbryson\\Documents\\saas\\source\\traffic-intensity-map\\get_loc.py\u001b[0m in \u001b[0;36mget_loc\u001b[1;34m()\u001b[0m\n\u001b[0;32m     38\u001b[0m \u001b[1;33m\u001b[0m\u001b[0m\n\u001b[0;32m     39\u001b[0m         \u001b[1;31m#create the connection\u001b[0m\u001b[1;33m\u001b[0m\u001b[1;33m\u001b[0m\u001b[0m\n\u001b[1;32m---> 40\u001b[1;33m         \u001b[0mcon\u001b[0m \u001b[1;33m=\u001b[0m \u001b[0madodbapi\u001b[0m\u001b[1;33m.\u001b[0m\u001b[0mconnect\u001b[0m\u001b[1;33m(\u001b[0m\u001b[0mconstr\u001b[0m\u001b[1;33m)\u001b[0m\u001b[1;33m\u001b[0m\u001b[0m\n\u001b[0m\u001b[0;32m     41\u001b[0m \u001b[1;33m\u001b[0m\u001b[0m\n\u001b[0;32m     42\u001b[0m         \u001b[1;31m#make a cursor on the connection\u001b[0m\u001b[1;33m\u001b[0m\u001b[1;33m\u001b[0m\u001b[0m\n",
        "\u001b[1;32mC:\\Users\\slbryson\\AppData\\Local\\Continuum\\Anaconda\\lib\\site-packages\\adodbapi\\adodbapi.pyc\u001b[0m in \u001b[0;36mconnect\u001b[1;34m(connection_string, timeout)\u001b[0m\n\u001b[0;32m    301\u001b[0m         \u001b[1;32mreturn\u001b[0m \u001b[0mConnection\u001b[0m\u001b[1;33m(\u001b[0m\u001b[0mc\u001b[0m\u001b[1;33m)\u001b[0m\u001b[1;33m\u001b[0m\u001b[0m\n\u001b[0;32m    302\u001b[0m     \u001b[1;32mexcept\u001b[0m \u001b[1;33m(\u001b[0m\u001b[0mException\u001b[0m\u001b[1;33m)\u001b[0m\u001b[1;33m,\u001b[0m \u001b[0me\u001b[0m\u001b[1;33m:\u001b[0m\u001b[1;33m\u001b[0m\u001b[0m\n\u001b[1;32m--> 303\u001b[1;33m         \u001b[1;32mraise\u001b[0m \u001b[0mOperationalError\u001b[0m\u001b[1;33m(\u001b[0m\u001b[0me\u001b[0m\u001b[1;33m,\u001b[0m \u001b[1;34m\"Error opening connection: \"\u001b[0m \u001b[1;33m+\u001b[0m \u001b[0mconnection_string\u001b[0m\u001b[1;33m)\u001b[0m\u001b[1;33m\u001b[0m\u001b[0m\n\u001b[0m\u001b[0;32m    304\u001b[0m \u001b[1;33m\u001b[0m\u001b[0m\n\u001b[0;32m    305\u001b[0m \u001b[1;31m# ------ DB API required module attributes ---------------------\u001b[0m\u001b[1;33m\u001b[0m\u001b[1;33m\u001b[0m\u001b[0m\n",
        "\u001b[1;31mOperationalError\u001b[0m: (com_error(-2147352567, 'Exception occurred.', (0, u'Microsoft OLE DB Provider for SQL Server', u\"Login failed for user 'slbryson'.\", None, 0, -2147217843), None), 'Error opening connection: Provider=SQLOLEDB.1; Initial Catalog=wms_kpi; Data Source=135.222.212.16; user ID=slbryson; Password=janfeb222!; ')"
       ]
      }
     ],
     "prompt_number": 2
    },
    {
     "cell_type": "code",
     "collapsed": false,
     "input": [
      "# Get real data\n",
      "# Call getwcdma.py\n",
      "#Need to fix the way that the data is built\n",
      "cellid, dbdata2 = getwcdma.getwcdma()\n",
      "#dbdata2 =list(map(list,dbdata2))\n",
      "dbdata2 = dbdata2.tolist()\n",
      " \n",
      "dbdata = zip(cellid,dbdata2)\n",
      "\n",
      "print len(dbdata), dbdata"
     ],
     "language": "python",
     "metadata": {},
     "outputs": []
    },
    {
     "cell_type": "code",
     "collapsed": false,
     "input": [
      "#Test call of cell_mm\n",
      "#Inputs needed are the location data and dbdata. \n",
      "import cell_mm\n",
      " \n",
      "smean =[]\n",
      "ind =[]\n",
      "\n",
      "# Get a mean and a list of the matching cells\n",
      "ind, smean = cell_mm.cell_mm(loc,dbdata)\n",
      "\n",
      "# Test output\n",
      "# The index rows indicate where the location cell id matched data from the date, so the rows will\n",
      "# match the correct location indices.\n",
      "import numpy\n",
      " \n",
      "mXa = map(lambda row: loc[row][1],ind[0])\n",
      "mXb = map(lambda row: loc[row][2],ind[0])\n",
      "cd1 = map(lambda row: smean[row],ind[0])\n",
      "if True:\n",
      "    cc = cd1/np.linalg.norm(cd1)\n",
      "else:\n",
      "    cc =cd1\n",
      "a = np.array(mXa)\n",
      "b = np.array(mXb)\n",
      "if False:\n",
      "   \n",
      "    mXa = a/np.linalg.norm(a)\n",
      "   \n",
      "    mXb = b/np.linalg.norm(b)\n",
      "else:\n",
      "    mXa =a\n",
      "    mXb =b\n",
      "\n",
      "mX = np.column_stack((mXa,mXb))\n",
      "length_data = len(cc)\n",
      "print len(mX), mX\n",
      "#print mX.reshape(10,2)\n",
      "#print \"a =\\n\", a, \"length ? =\", len(a)\n",
      "print \"cc = \\n\", cc, \"length ? = \", len(cc)\n",
      "# Now we have our input data for the GP."
     ],
     "language": "python",
     "metadata": {},
     "outputs": [
      {
       "ename": "ValueError",
       "evalue": "setting an array element with a sequence.",
       "output_type": "pyerr",
       "traceback": [
        "\u001b[1;31m---------------------------------------------------------------------------\u001b[0m\n\u001b[1;31mValueError\u001b[0m                                Traceback (most recent call last)",
        "\u001b[1;32m<ipython-input-40-901b51de4239>\u001b[0m in \u001b[0;36m<module>\u001b[1;34m()\u001b[0m\n\u001b[0;32m      7\u001b[0m \u001b[1;33m\u001b[0m\u001b[0m\n\u001b[0;32m      8\u001b[0m \u001b[1;31m# Get a mean and a list of the matching cells\u001b[0m\u001b[1;33m\u001b[0m\u001b[1;33m\u001b[0m\u001b[0m\n\u001b[1;32m----> 9\u001b[1;33m \u001b[0mind\u001b[0m\u001b[1;33m,\u001b[0m \u001b[0msmean\u001b[0m \u001b[1;33m=\u001b[0m \u001b[0mcell_mm\u001b[0m\u001b[1;33m.\u001b[0m\u001b[0mcell_mm\u001b[0m\u001b[1;33m(\u001b[0m\u001b[0mloc\u001b[0m\u001b[1;33m,\u001b[0m\u001b[0mdbdata\u001b[0m\u001b[1;33m)\u001b[0m\u001b[1;33m\u001b[0m\u001b[0m\n\u001b[0m\u001b[0;32m     10\u001b[0m \u001b[1;33m\u001b[0m\u001b[0m\n\u001b[0;32m     11\u001b[0m \u001b[1;31m# Test output\u001b[0m\u001b[1;33m\u001b[0m\u001b[1;33m\u001b[0m\u001b[0m\n",
        "\u001b[1;32mC:\\Projects\\Python_Projects\\simcity\\source\\traffic-intensity-map\\cell_mm.pyc\u001b[0m in \u001b[0;36mcell_mm\u001b[1;34m(loc, dbdata)\u001b[0m\n\u001b[0;32m     21\u001b[0m             \u001b[1;31m#do something;\u001b[0m\u001b[1;33m\u001b[0m\u001b[1;33m\u001b[0m\u001b[0m\n\u001b[0;32m     22\u001b[0m             \u001b[1;32mif\u001b[0m \u001b[0mloc\u001b[0m\u001b[1;33m[\u001b[0m\u001b[0mrow\u001b[0m\u001b[1;33m]\u001b[0m\u001b[1;33m[\u001b[0m\u001b[1;36m0\u001b[0m\u001b[1;33m]\u001b[0m \u001b[1;33m==\u001b[0m \u001b[0mdbdata\u001b[0m\u001b[1;33m[\u001b[0m\u001b[0mcol\u001b[0m\u001b[1;33m]\u001b[0m\u001b[1;33m[\u001b[0m\u001b[1;36m0\u001b[0m\u001b[1;33m]\u001b[0m\u001b[1;33m:\u001b[0m\u001b[1;33m\u001b[0m\u001b[0m\n\u001b[1;32m---> 23\u001b[1;33m              \u001b[0mtry_this\u001b[0m\u001b[1;33m[\u001b[0m\u001b[0mrow\u001b[0m\u001b[1;33m]\u001b[0m\u001b[1;33m[\u001b[0m\u001b[0mcol\u001b[0m\u001b[1;33m]\u001b[0m \u001b[1;33m=\u001b[0m\u001b[0mdbdata\u001b[0m\u001b[1;33m[\u001b[0m\u001b[0mcol\u001b[0m\u001b[1;33m]\u001b[0m\u001b[1;33m[\u001b[0m\u001b[1;36m1\u001b[0m\u001b[1;33m]\u001b[0m\u001b[1;33m\u001b[0m\u001b[0m\n\u001b[0m\u001b[0;32m     24\u001b[0m     \u001b[1;31m# Now get the indices\u001b[0m\u001b[1;33m\u001b[0m\u001b[1;33m\u001b[0m\u001b[0m\n\u001b[0;32m     25\u001b[0m     \u001b[0mi\u001b[0m\u001b[1;33m,\u001b[0m\u001b[0mj\u001b[0m\u001b[1;33m=\u001b[0m\u001b[0mtry_this\u001b[0m\u001b[1;33m.\u001b[0m\u001b[0mnonzero\u001b[0m\u001b[1;33m(\u001b[0m\u001b[1;33m)\u001b[0m \u001b[1;31m# this statement plus the zip below will save the non-zero indices\u001b[0m\u001b[1;33m\u001b[0m\u001b[0m\n",
        "\u001b[1;31mValueError\u001b[0m: setting an array element with a sequence."
       ]
      }
     ],
     "prompt_number": 40
    },
    {
     "cell_type": "code",
     "collapsed": false,
     "input": [
      "# sample inputs and outputs\n",
      "#X = np.random.uniform(-3.,3.,(length_data,2))\n",
      "# Let's change X to [a b]\n",
      "X =mX\n",
      "#Y = np.sin(X[:,0:1]) * np.sin(X[:,1:2])+np.random.randn(length_data,1)*0.05\n",
      "\n",
      "\n",
      "mYc = np.array(cc)\n",
      "Y = mYc.reshape(length_data,1)\n",
      "\n",
      "#print \"Y =\", Y, \"\\n\", mYc.reshape(length_data,1)\n",
      "\n",
      "# define kernel\n",
      "ker = GPy.kern.Matern52(2,ARD=True) + GPy.kern.white(2)\n",
      "#ker = GPy.kern.Matern52(2,ARD=True)  \n",
      "\n",
      "# create simple GP model\n",
      "m = GPy.models.GPRegression(X,Y,ker)\n",
      "\n",
      "# contrain all parameters to be positive\n",
      "#m.constrain_positive('')\n",
      "\n",
      "# optimize and plot\n",
      "m.optimize('tnc', max_f_eval = 50)\n",
      "m.plot()\n",
      "print len(Y)\n",
      "print(m)\n"
     ],
     "language": "python",
     "metadata": {},
     "outputs": [
      {
       "output_type": "stream",
       "stream": "stderr",
       "text": [
        "C:\\Users\\slbryson\\AppData\\Local\\Continuum\\Anaconda\\lib\\site-packages\\gpy-0.4.9-py2.7.egg\\GPy\\kern\\parts\\Matern52.py:70: RuntimeWarning: divide by zero encountered in divide\n",
        "  dist = np.sqrt(np.sum(np.square((X[:,None,:]-X2[None,:,:])/self.lengthscale),-1))\n",
        "C:\\Users\\slbryson\\AppData\\Local\\Continuum\\Anaconda\\lib\\site-packages\\gpy-0.4.9-py2.7.egg\\GPy\\kern\\parts\\Matern52.py:70: RuntimeWarning: invalid value encountered in divide\n",
        "  dist = np.sqrt(np.sum(np.square((X[:,None,:]-X2[None,:,:])/self.lengthscale),-1))\n",
        "C:\\Users\\slbryson\\AppData\\Local\\Continuum\\Anaconda\\lib\\site-packages\\gpy-0.4.9-py2.7.egg\\GPy\\kern\\parts\\Matern52.py:71: RuntimeWarning: invalid value encountered in multiply\n",
        "  np.add(self.variance*(1+np.sqrt(5.)*dist+5./3*dist**2)*np.exp(-np.sqrt(5.)*dist), target,target)\n"
       ]
      },
      {
       "output_type": "stream",
       "stream": "stderr",
       "text": [
        "C:\\Users\\slbryson\\AppData\\Local\\Continuum\\Anaconda\\lib\\site-packages\\gpy-0.4.9-py2.7.egg\\GPy\\util\\linalg.py:121: RuntimeWarning: invalid value encountered in less_equal\n",
        "  if np.any(diagA <= 0.):\n",
        "C:\\Users\\slbryson\\AppData\\Local\\Continuum\\Anaconda\\lib\\site-packages\\gpy-0.4.9-py2.7.egg\\GPy\\kern\\parts\\Matern52.py:80: RuntimeWarning: divide by zero encountered in divide\n",
        "  dist = np.sqrt(np.sum(np.square((X[:,None,:]-X2[None,:,:])/self.lengthscale),-1))\n"
       ]
      },
      {
       "output_type": "stream",
       "stream": "stderr",
       "text": [
        "C:\\Users\\slbryson\\AppData\\Local\\Continuum\\Anaconda\\lib\\site-packages\\gpy-0.4.9-py2.7.egg\\GPy\\kern\\parts\\Matern52.py:80: RuntimeWarning: invalid value encountered in divide\n",
        "  dist = np.sqrt(np.sum(np.square((X[:,None,:]-X2[None,:,:])/self.lengthscale),-1))\n",
        "C:\\Users\\slbryson\\AppData\\Local\\Continuum\\Anaconda\\lib\\site-packages\\gpy-0.4.9-py2.7.egg\\GPy\\kern\\parts\\Matern52.py:82: RuntimeWarning: divide by zero encountered in divide\n",
        "  dist2M = np.square(X[:,None,:]-X2[None,:,:])/self.lengthscale**3\n"
       ]
      },
      {
       "output_type": "stream",
       "stream": "stderr",
       "text": [
        "C:\\Users\\slbryson\\AppData\\Local\\Continuum\\Anaconda\\lib\\site-packages\\gpy-0.4.9-py2.7.egg\\GPy\\kern\\parts\\Matern52.py:82: RuntimeWarning: invalid value encountered in divide\n",
        "  dist2M = np.square(X[:,None,:]-X2[None,:,:])/self.lengthscale**3\n",
        "C:\\Users\\slbryson\\AppData\\Local\\Continuum\\Anaconda\\lib\\site-packages\\gpy-0.4.9-py2.7.egg\\GPy\\kern\\parts\\Matern52.py:83: RuntimeWarning: invalid value encountered in multiply\n",
        "  dvar = (1+np.sqrt(5.)*dist+5./3*dist**2)*np.exp(-np.sqrt(5.)*dist)\n"
       ]
      },
      {
       "output_type": "stream",
       "stream": "stderr",
       "text": [
        "C:\\Users\\slbryson\\AppData\\Local\\Continuum\\Anaconda\\lib\\site-packages\\gpy-0.4.9-py2.7.egg\\GPy\\kern\\parts\\Matern52.py:84: RuntimeWarning: invalid value encountered in multiply\n",
        "  dl = (self.variance * 5./3 * dist * (1 + np.sqrt(5.)*dist ) * np.exp(-np.sqrt(5.)*dist))[:,:,np.newaxis] * dist2M*invdist[:,:,np.newaxis]\n",
        "C:\\Users\\slbryson\\AppData\\Local\\Continuum\\Anaconda\\lib\\site-packages\\gpy-0.4.9-py2.7.egg\\GPy\\kern\\parts\\Matern52.py:87: RuntimeWarning: invalid value encountered in multiply\n",
        "  dl = (self.variance * 5./3 * dist * (1 + np.sqrt(5.)*dist ) * np.exp(-np.sqrt(5.)*dist))[:,:,np.newaxis] * dist2M*invdist[:,:,np.newaxis]\n"
       ]
      },
      {
       "output_type": "stream",
       "stream": "stderr",
       "text": [
        "C:\\Users\\slbryson\\AppData\\Local\\Continuum\\Anaconda\\lib\\site-packages\\gpy-0.4.9-py2.7.egg\\GPy\\core\\transformations.py:32: RuntimeWarning: invalid value encountered in greater\n",
        "  return np.where(x>lim_val, x, np.log(1. + np.exp(x)))\n",
        "C:\\Users\\slbryson\\AppData\\Local\\Continuum\\Anaconda\\lib\\site-packages\\gpy-0.4.9-py2.7.egg\\GPy\\kern\\parts\\Matern52.py:82: RuntimeWarning: invalid value encountered in power\n",
        "  dist2M = np.square(X[:,None,:]-X2[None,:,:])/self.lengthscale**3\n"
       ]
      },
      {
       "ename": "LinAlgError",
       "evalue": "not positive definite, even with jitter.",
       "output_type": "pyerr",
       "traceback": [
        "\u001b[1;31m---------------------------------------------------------------------------\u001b[0m\n\u001b[1;31mLinAlgError\u001b[0m                               Traceback (most recent call last)",
        "\u001b[1;32m<ipython-input-6-4339b2216981>\u001b[0m in \u001b[0;36m<module>\u001b[1;34m()\u001b[0m\n\u001b[0;32m     22\u001b[0m \u001b[1;33m\u001b[0m\u001b[0m\n\u001b[0;32m     23\u001b[0m \u001b[1;31m# optimize and plot\u001b[0m\u001b[1;33m\u001b[0m\u001b[1;33m\u001b[0m\u001b[0m\n\u001b[1;32m---> 24\u001b[1;33m \u001b[0mm\u001b[0m\u001b[1;33m.\u001b[0m\u001b[0moptimize\u001b[0m\u001b[1;33m(\u001b[0m\u001b[1;34m'tnc'\u001b[0m\u001b[1;33m,\u001b[0m \u001b[0mmax_f_eval\u001b[0m \u001b[1;33m=\u001b[0m \u001b[1;36m100\u001b[0m\u001b[1;33m)\u001b[0m\u001b[1;33m\u001b[0m\u001b[0m\n\u001b[0m\u001b[0;32m     25\u001b[0m \u001b[0mm\u001b[0m\u001b[1;33m.\u001b[0m\u001b[0mplot\u001b[0m\u001b[1;33m(\u001b[0m\u001b[1;33m)\u001b[0m\u001b[1;33m\u001b[0m\u001b[0m\n\u001b[0;32m     26\u001b[0m \u001b[1;32mprint\u001b[0m \u001b[0mlen\u001b[0m\u001b[1;33m(\u001b[0m\u001b[0mY\u001b[0m\u001b[1;33m)\u001b[0m\u001b[1;33m\u001b[0m\u001b[0m\n",
        "\u001b[1;32mC:\\Users\\slbryson\\AppData\\Local\\Continuum\\Anaconda\\lib\\site-packages\\gpy-0.4.9-py2.7.egg\\GPy\\core\\model.pyc\u001b[0m in \u001b[0;36moptimize\u001b[1;34m(self, optimizer, start, **kwargs)\u001b[0m\n\u001b[0;32m    357\u001b[0m         \u001b[0mopt\u001b[0m \u001b[1;33m=\u001b[0m \u001b[0moptimizer\u001b[0m\u001b[1;33m(\u001b[0m\u001b[0mstart\u001b[0m\u001b[1;33m,\u001b[0m \u001b[0mmodel\u001b[0m\u001b[1;33m=\u001b[0m\u001b[0mself\u001b[0m\u001b[1;33m,\u001b[0m \u001b[1;33m**\u001b[0m\u001b[0mkwargs\u001b[0m\u001b[1;33m)\u001b[0m\u001b[1;33m\u001b[0m\u001b[0m\n\u001b[0;32m    358\u001b[0m \u001b[1;33m\u001b[0m\u001b[0m\n\u001b[1;32m--> 359\u001b[1;33m         \u001b[0mopt\u001b[0m\u001b[1;33m.\u001b[0m\u001b[0mrun\u001b[0m\u001b[1;33m(\u001b[0m\u001b[0mf_fp\u001b[0m\u001b[1;33m=\u001b[0m\u001b[0mself\u001b[0m\u001b[1;33m.\u001b[0m\u001b[0mobjective_and_gradients\u001b[0m\u001b[1;33m,\u001b[0m \u001b[0mf\u001b[0m\u001b[1;33m=\u001b[0m\u001b[0mself\u001b[0m\u001b[1;33m.\u001b[0m\u001b[0mobjective_function\u001b[0m\u001b[1;33m,\u001b[0m \u001b[0mfp\u001b[0m\u001b[1;33m=\u001b[0m\u001b[0mself\u001b[0m\u001b[1;33m.\u001b[0m\u001b[0mobjective_function_gradients\u001b[0m\u001b[1;33m)\u001b[0m\u001b[1;33m\u001b[0m\u001b[0m\n\u001b[0m\u001b[0;32m    360\u001b[0m \u001b[1;33m\u001b[0m\u001b[0m\n\u001b[0;32m    361\u001b[0m         \u001b[0mself\u001b[0m\u001b[1;33m.\u001b[0m\u001b[0moptimization_runs\u001b[0m\u001b[1;33m.\u001b[0m\u001b[0mappend\u001b[0m\u001b[1;33m(\u001b[0m\u001b[0mopt\u001b[0m\u001b[1;33m)\u001b[0m\u001b[1;33m\u001b[0m\u001b[0m\n",
        "\u001b[1;32mC:\\Users\\slbryson\\AppData\\Local\\Continuum\\Anaconda\\lib\\site-packages\\gpy-0.4.9-py2.7.egg\\GPy\\inference\\optimization.pyc\u001b[0m in \u001b[0;36mrun\u001b[1;34m(self, **kwargs)\u001b[0m\n\u001b[0;32m     50\u001b[0m     \u001b[1;32mdef\u001b[0m \u001b[0mrun\u001b[0m\u001b[1;33m(\u001b[0m\u001b[0mself\u001b[0m\u001b[1;33m,\u001b[0m \u001b[1;33m**\u001b[0m\u001b[0mkwargs\u001b[0m\u001b[1;33m)\u001b[0m\u001b[1;33m:\u001b[0m\u001b[1;33m\u001b[0m\u001b[0m\n\u001b[0;32m     51\u001b[0m         \u001b[0mstart\u001b[0m \u001b[1;33m=\u001b[0m \u001b[0mdt\u001b[0m\u001b[1;33m.\u001b[0m\u001b[0mdatetime\u001b[0m\u001b[1;33m.\u001b[0m\u001b[0mnow\u001b[0m\u001b[1;33m(\u001b[0m\u001b[1;33m)\u001b[0m\u001b[1;33m\u001b[0m\u001b[0m\n\u001b[1;32m---> 52\u001b[1;33m         \u001b[0mself\u001b[0m\u001b[1;33m.\u001b[0m\u001b[0mopt\u001b[0m\u001b[1;33m(\u001b[0m\u001b[1;33m**\u001b[0m\u001b[0mkwargs\u001b[0m\u001b[1;33m)\u001b[0m\u001b[1;33m\u001b[0m\u001b[0m\n\u001b[0m\u001b[0;32m     53\u001b[0m         \u001b[0mend\u001b[0m \u001b[1;33m=\u001b[0m \u001b[0mdt\u001b[0m\u001b[1;33m.\u001b[0m\u001b[0mdatetime\u001b[0m\u001b[1;33m.\u001b[0m\u001b[0mnow\u001b[0m\u001b[1;33m(\u001b[0m\u001b[1;33m)\u001b[0m\u001b[1;33m\u001b[0m\u001b[0m\n\u001b[0;32m     54\u001b[0m         \u001b[0mself\u001b[0m\u001b[1;33m.\u001b[0m\u001b[0mtime\u001b[0m \u001b[1;33m=\u001b[0m \u001b[0mstr\u001b[0m\u001b[1;33m(\u001b[0m\u001b[0mend\u001b[0m \u001b[1;33m-\u001b[0m \u001b[0mstart\u001b[0m\u001b[1;33m)\u001b[0m\u001b[1;33m\u001b[0m\u001b[0m\n",
        "\u001b[1;32mC:\\Users\\slbryson\\AppData\\Local\\Continuum\\Anaconda\\lib\\site-packages\\gpy-0.4.9-py2.7.egg\\GPy\\inference\\optimization.pyc\u001b[0m in \u001b[0;36mopt\u001b[1;34m(self, f_fp, f, fp)\u001b[0m\n\u001b[0;32m     98\u001b[0m \u001b[1;33m\u001b[0m\u001b[0m\n\u001b[0;32m     99\u001b[0m         opt_result = optimize.fmin_tnc(f_fp, self.x_init, messages=self.messages,\n\u001b[1;32m--> 100\u001b[1;33m                        maxfun=self.max_f_eval, **opt_dict)\n\u001b[0m\u001b[0;32m    101\u001b[0m         \u001b[0mself\u001b[0m\u001b[1;33m.\u001b[0m\u001b[0mx_opt\u001b[0m \u001b[1;33m=\u001b[0m \u001b[0mopt_result\u001b[0m\u001b[1;33m[\u001b[0m\u001b[1;36m0\u001b[0m\u001b[1;33m]\u001b[0m\u001b[1;33m\u001b[0m\u001b[0m\n\u001b[0;32m    102\u001b[0m         \u001b[0mself\u001b[0m\u001b[1;33m.\u001b[0m\u001b[0mf_opt\u001b[0m \u001b[1;33m=\u001b[0m \u001b[0mf_fp\u001b[0m\u001b[1;33m(\u001b[0m\u001b[0mself\u001b[0m\u001b[1;33m.\u001b[0m\u001b[0mx_opt\u001b[0m\u001b[1;33m)\u001b[0m\u001b[1;33m[\u001b[0m\u001b[1;36m0\u001b[0m\u001b[1;33m]\u001b[0m\u001b[1;33m\u001b[0m\u001b[0m\n",
        "\u001b[1;32mC:\\Users\\slbryson\\AppData\\Local\\Continuum\\Anaconda\\lib\\site-packages\\scipy\\optimize\\tnc.pyc\u001b[0m in \u001b[0;36mfmin_tnc\u001b[1;34m(func, x0, fprime, args, approx_grad, bounds, epsilon, scale, offset, messages, maxCGit, maxfun, eta, stepmx, accuracy, fmin, ftol, xtol, pgtol, rescale, disp, callback)\u001b[0m\n\u001b[0;32m    260\u001b[0m             'disp': False}\n\u001b[0;32m    261\u001b[0m \u001b[1;33m\u001b[0m\u001b[0m\n\u001b[1;32m--> 262\u001b[1;33m     \u001b[0mres\u001b[0m \u001b[1;33m=\u001b[0m \u001b[0m_minimize_tnc\u001b[0m\u001b[1;33m(\u001b[0m\u001b[0mfun\u001b[0m\u001b[1;33m,\u001b[0m \u001b[0mx0\u001b[0m\u001b[1;33m,\u001b[0m \u001b[0margs\u001b[0m\u001b[1;33m,\u001b[0m \u001b[0mjac\u001b[0m\u001b[1;33m,\u001b[0m \u001b[0mbounds\u001b[0m\u001b[1;33m,\u001b[0m \u001b[0mcallback\u001b[0m\u001b[1;33m=\u001b[0m\u001b[0mcallback\u001b[0m\u001b[1;33m,\u001b[0m \u001b[1;33m**\u001b[0m\u001b[0mopts\u001b[0m\u001b[1;33m)\u001b[0m\u001b[1;33m\u001b[0m\u001b[0m\n\u001b[0m\u001b[0;32m    263\u001b[0m \u001b[1;33m\u001b[0m\u001b[0m\n\u001b[0;32m    264\u001b[0m     \u001b[1;32mreturn\u001b[0m \u001b[0mres\u001b[0m\u001b[1;33m[\u001b[0m\u001b[1;34m'x'\u001b[0m\u001b[1;33m]\u001b[0m\u001b[1;33m,\u001b[0m \u001b[0mres\u001b[0m\u001b[1;33m[\u001b[0m\u001b[1;34m'nfev'\u001b[0m\u001b[1;33m]\u001b[0m\u001b[1;33m,\u001b[0m \u001b[0mres\u001b[0m\u001b[1;33m[\u001b[0m\u001b[1;34m'status'\u001b[0m\u001b[1;33m]\u001b[0m\u001b[1;33m\u001b[0m\u001b[0m\n",
        "\u001b[1;32mC:\\Users\\slbryson\\AppData\\Local\\Continuum\\Anaconda\\lib\\site-packages\\scipy\\optimize\\tnc.pyc\u001b[0m in \u001b[0;36m_minimize_tnc\u001b[1;34m(fun, x0, args, jac, bounds, eps, scale, offset, mesg_num, maxCGit, maxiter, eta, stepmx, accuracy, minfev, ftol, xtol, gtol, rescale, disp, callback, **unknown_options)\u001b[0m\n\u001b[0;32m    395\u001b[0m                                         \u001b[0moffset\u001b[0m\u001b[1;33m,\u001b[0m \u001b[0mmessages\u001b[0m\u001b[1;33m,\u001b[0m \u001b[0mmaxCGit\u001b[0m\u001b[1;33m,\u001b[0m \u001b[0mmaxfun\u001b[0m\u001b[1;33m,\u001b[0m\u001b[1;33m\u001b[0m\u001b[0m\n\u001b[0;32m    396\u001b[0m                                         \u001b[0meta\u001b[0m\u001b[1;33m,\u001b[0m \u001b[0mstepmx\u001b[0m\u001b[1;33m,\u001b[0m \u001b[0maccuracy\u001b[0m\u001b[1;33m,\u001b[0m \u001b[0mfmin\u001b[0m\u001b[1;33m,\u001b[0m \u001b[0mftol\u001b[0m\u001b[1;33m,\u001b[0m\u001b[1;33m\u001b[0m\u001b[0m\n\u001b[1;32m--> 397\u001b[1;33m                                         xtol, pgtol, rescale, callback)\n\u001b[0m\u001b[0;32m    398\u001b[0m \u001b[1;33m\u001b[0m\u001b[0m\n\u001b[0;32m    399\u001b[0m     \u001b[0mxopt\u001b[0m \u001b[1;33m=\u001b[0m \u001b[0marray\u001b[0m\u001b[1;33m(\u001b[0m\u001b[0mx\u001b[0m\u001b[1;33m)\u001b[0m\u001b[1;33m\u001b[0m\u001b[0m\n",
        "\u001b[1;32mC:\\Users\\slbryson\\AppData\\Local\\Continuum\\Anaconda\\lib\\site-packages\\scipy\\optimize\\tnc.pyc\u001b[0m in \u001b[0;36mfunc_and_grad\u001b[1;34m(x)\u001b[0m\n\u001b[0;32m    359\u001b[0m             \u001b[0mx\u001b[0m \u001b[1;33m=\u001b[0m \u001b[0masarray\u001b[0m\u001b[1;33m(\u001b[0m\u001b[0mx\u001b[0m\u001b[1;33m)\u001b[0m\u001b[1;33m\u001b[0m\u001b[0m\n\u001b[0;32m    360\u001b[0m             \u001b[0mf\u001b[0m \u001b[1;33m=\u001b[0m \u001b[0mfun\u001b[0m\u001b[1;33m(\u001b[0m\u001b[0mx\u001b[0m\u001b[1;33m,\u001b[0m \u001b[1;33m*\u001b[0m\u001b[0margs\u001b[0m\u001b[1;33m)\u001b[0m\u001b[1;33m\u001b[0m\u001b[0m\n\u001b[1;32m--> 361\u001b[1;33m             \u001b[0mg\u001b[0m \u001b[1;33m=\u001b[0m \u001b[0mjac\u001b[0m\u001b[1;33m(\u001b[0m\u001b[0mx\u001b[0m\u001b[1;33m,\u001b[0m \u001b[1;33m*\u001b[0m\u001b[0margs\u001b[0m\u001b[1;33m)\u001b[0m\u001b[1;33m\u001b[0m\u001b[0m\n\u001b[0m\u001b[0;32m    362\u001b[0m             \u001b[1;32mreturn\u001b[0m \u001b[0mf\u001b[0m\u001b[1;33m,\u001b[0m \u001b[0mlist\u001b[0m\u001b[1;33m(\u001b[0m\u001b[0mg\u001b[0m\u001b[1;33m)\u001b[0m\u001b[1;33m\u001b[0m\u001b[0m\n\u001b[0;32m    363\u001b[0m \u001b[1;33m\u001b[0m\u001b[0m\n",
        "\u001b[1;32mC:\\Users\\slbryson\\AppData\\Local\\Continuum\\Anaconda\\lib\\site-packages\\scipy\\optimize\\optimize.pyc\u001b[0m in \u001b[0;36mderivative\u001b[1;34m(self, x, *args)\u001b[0m\n\u001b[0;32m     64\u001b[0m             \u001b[1;32mreturn\u001b[0m \u001b[0mself\u001b[0m\u001b[1;33m.\u001b[0m\u001b[0mjac\u001b[0m\u001b[1;33m\u001b[0m\u001b[0m\n\u001b[0;32m     65\u001b[0m         \u001b[1;32melse\u001b[0m\u001b[1;33m:\u001b[0m\u001b[1;33m\u001b[0m\u001b[0m\n\u001b[1;32m---> 66\u001b[1;33m             \u001b[0mself\u001b[0m\u001b[1;33m(\u001b[0m\u001b[0mx\u001b[0m\u001b[1;33m,\u001b[0m \u001b[1;33m*\u001b[0m\u001b[0margs\u001b[0m\u001b[1;33m)\u001b[0m\u001b[1;33m\u001b[0m\u001b[0m\n\u001b[0m\u001b[0;32m     67\u001b[0m             \u001b[1;32mreturn\u001b[0m \u001b[0mself\u001b[0m\u001b[1;33m.\u001b[0m\u001b[0mjac\u001b[0m\u001b[1;33m\u001b[0m\u001b[0m\n\u001b[0;32m     68\u001b[0m \u001b[1;33m\u001b[0m\u001b[0m\n",
        "\u001b[1;32mC:\\Users\\slbryson\\AppData\\Local\\Continuum\\Anaconda\\lib\\site-packages\\scipy\\optimize\\optimize.pyc\u001b[0m in \u001b[0;36m__call__\u001b[1;34m(self, x, *args)\u001b[0m\n\u001b[0;32m     56\u001b[0m     \u001b[1;32mdef\u001b[0m \u001b[0m__call__\u001b[0m\u001b[1;33m(\u001b[0m\u001b[0mself\u001b[0m\u001b[1;33m,\u001b[0m \u001b[0mx\u001b[0m\u001b[1;33m,\u001b[0m \u001b[1;33m*\u001b[0m\u001b[0margs\u001b[0m\u001b[1;33m)\u001b[0m\u001b[1;33m:\u001b[0m\u001b[1;33m\u001b[0m\u001b[0m\n\u001b[0;32m     57\u001b[0m         \u001b[0mself\u001b[0m\u001b[1;33m.\u001b[0m\u001b[0mx\u001b[0m \u001b[1;33m=\u001b[0m \u001b[0mnumpy\u001b[0m\u001b[1;33m.\u001b[0m\u001b[0masarray\u001b[0m\u001b[1;33m(\u001b[0m\u001b[0mx\u001b[0m\u001b[1;33m)\u001b[0m\u001b[1;33m.\u001b[0m\u001b[0mcopy\u001b[0m\u001b[1;33m(\u001b[0m\u001b[1;33m)\u001b[0m\u001b[1;33m\u001b[0m\u001b[0m\n\u001b[1;32m---> 58\u001b[1;33m         \u001b[0mfg\u001b[0m \u001b[1;33m=\u001b[0m \u001b[0mself\u001b[0m\u001b[1;33m.\u001b[0m\u001b[0mfun\u001b[0m\u001b[1;33m(\u001b[0m\u001b[0mx\u001b[0m\u001b[1;33m,\u001b[0m \u001b[1;33m*\u001b[0m\u001b[0margs\u001b[0m\u001b[1;33m)\u001b[0m\u001b[1;33m\u001b[0m\u001b[0m\n\u001b[0m\u001b[0;32m     59\u001b[0m         \u001b[0mself\u001b[0m\u001b[1;33m.\u001b[0m\u001b[0mjac\u001b[0m \u001b[1;33m=\u001b[0m \u001b[0mfg\u001b[0m\u001b[1;33m[\u001b[0m\u001b[1;36m1\u001b[0m\u001b[1;33m]\u001b[0m\u001b[1;33m\u001b[0m\u001b[0m\n\u001b[0;32m     60\u001b[0m         \u001b[1;32mreturn\u001b[0m \u001b[0mfg\u001b[0m\u001b[1;33m[\u001b[0m\u001b[1;36m0\u001b[0m\u001b[1;33m]\u001b[0m\u001b[1;33m\u001b[0m\u001b[0m\n",
        "\u001b[1;32mC:\\Users\\slbryson\\AppData\\Local\\Continuum\\Anaconda\\lib\\site-packages\\gpy-0.4.9-py2.7.egg\\GPy\\core\\model.pyc\u001b[0m in \u001b[0;36mobjective_and_gradients\u001b[1;34m(self, x)\u001b[0m\n\u001b[0;32m    330\u001b[0m         \u001b[1;32mexcept\u001b[0m \u001b[1;33m(\u001b[0m\u001b[0mLinAlgError\u001b[0m\u001b[1;33m,\u001b[0m \u001b[0mZeroDivisionError\u001b[0m\u001b[1;33m,\u001b[0m \u001b[0mValueError\u001b[0m\u001b[1;33m)\u001b[0m \u001b[1;32mas\u001b[0m \u001b[0me\u001b[0m\u001b[1;33m:\u001b[0m\u001b[1;33m\u001b[0m\u001b[0m\n\u001b[0;32m    331\u001b[0m             \u001b[1;32mif\u001b[0m \u001b[0mself\u001b[0m\u001b[1;33m.\u001b[0m\u001b[0m_fail_count\u001b[0m \u001b[1;33m>=\u001b[0m \u001b[0mself\u001b[0m\u001b[1;33m.\u001b[0m\u001b[0m_allowed_failures\u001b[0m\u001b[1;33m:\u001b[0m\u001b[1;33m\u001b[0m\u001b[0m\n\u001b[1;32m--> 332\u001b[1;33m                 \u001b[1;32mraise\u001b[0m \u001b[0me\u001b[0m\u001b[1;33m\u001b[0m\u001b[0m\n\u001b[0m\u001b[0;32m    333\u001b[0m             \u001b[0mself\u001b[0m\u001b[1;33m.\u001b[0m\u001b[0m_fail_count\u001b[0m \u001b[1;33m+=\u001b[0m \u001b[1;36m1\u001b[0m\u001b[1;33m\u001b[0m\u001b[0m\n\u001b[0;32m    334\u001b[0m             \u001b[0mobj_f\u001b[0m \u001b[1;33m=\u001b[0m \u001b[0mnp\u001b[0m\u001b[1;33m.\u001b[0m\u001b[0minf\u001b[0m\u001b[1;33m\u001b[0m\u001b[0m\n",
        "\u001b[1;31mLinAlgError\u001b[0m: not positive definite, even with jitter."
       ]
      },
      {
       "output_type": "stream",
       "stream": "stderr",
       "text": [
        "C:\\Users\\slbryson\\AppData\\Local\\Continuum\\Anaconda\\lib\\site-packages\\gpy-0.4.9-py2.7.egg\\GPy\\core\\transformations.py:36: RuntimeWarning: invalid value encountered in greater\n",
        "  return np.where(f>lim_val, 1., 1 - np.exp(-f))\n"
       ]
      }
     ],
     "prompt_number": 6
    },
    {
     "cell_type": "code",
     "collapsed": false,
     "input": [],
     "language": "python",
     "metadata": {},
     "outputs": []
    }
   ],
   "metadata": {}
  }
 ]
}